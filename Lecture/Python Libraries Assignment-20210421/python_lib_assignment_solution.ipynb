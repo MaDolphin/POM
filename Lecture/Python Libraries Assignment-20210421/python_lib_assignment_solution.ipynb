{
 "cells": [
  {
   "cell_type": "markdown",
   "metadata": {},
   "source": [
    "# Introduction to the Scientific Libraries for Python"
   ]
  },
  {
   "cell_type": "markdown",
   "metadata": {},
   "source": [
    "This Jupyter Notebook contains several basic exercises aimed to introduce you to the most widely used scientific libraries for Python: [numpy](https://numpy.org/), [pandas](https://pandas.pydata.org/), [scikit-learn](https://scikit-learn.org/stable/index.html), [matplotlib](https://matplotlib.org/index.html), and [seaborn](https://seaborn.pydata.org/).  \n",
    "The exercises are kept short and relatively simple. Please refer to the references under the questions if you are stuck. You can refer to the notebook containing the solutions if you absolutely cannot move forward but please first try to figure out the solution yourself. "
   ]
  },
  {
   "cell_type": "markdown",
   "metadata": {},
   "source": [
    "You can run a cell either by clicking `Run` on the toolbar or by pressing `CTRL+RETURN`. Pressing `SHIFT+RETURN` will run the cell and move the pointer to the next one. For a complete list of keyboard shortcuts press `H`."
   ]
  },
  {
   "cell_type": "markdown",
   "metadata": {},
   "source": [
    "Run the cell below to import all the necessary libraries."
   ]
  },
  {
   "cell_type": "code",
   "execution_count": 1,
   "metadata": {},
   "outputs": [],
   "source": [
    "# Import the libraries\n",
    "import pandas as pd\n",
    "import numpy as np\n",
    "import matplotlib.pyplot as plt\n",
    "import seaborn as sns\n",
    "from sklearn.preprocessing import PolynomialFeatures\n",
    "from sklearn.linear_model import LinearRegression\n",
    "\n",
    "# Enable high resolution plots\n",
    "from IPython.display import set_matplotlib_formats\n",
    "set_matplotlib_formats('retina')"
   ]
  },
  {
   "cell_type": "markdown",
   "metadata": {},
   "source": [
    "# NumPy Exercises\n",
    "NumPy is the fundamental package for scientific computing with Python.  \n",
    "Check out the [NumPy user guide](https://docs.scipy.org/doc/numpy/user/index.html#user)."
   ]
  },
  {
   "cell_type": "markdown",
   "metadata": {},
   "source": [
    "## Arrays and Matrices"
   ]
  },
  {
   "cell_type": "markdown",
   "metadata": {},
   "source": [
    "Create an array of 8 ones of type integer.  \n",
    "Reference: [ones](https://docs.scipy.org/doc/numpy/reference/generated/numpy.ones.html)."
   ]
  },
  {
   "cell_type": "code",
   "execution_count": 2,
   "metadata": {},
   "outputs": [
    {
     "data": {
      "text/plain": [
       "array([1, 1, 1, 1, 1, 1, 1, 1])"
      ]
     },
     "execution_count": 2,
     "metadata": {},
     "output_type": "execute_result"
    }
   ],
   "source": [
    "np.ones(8, dtype=int)"
   ]
  },
  {
   "cell_type": "markdown",
   "metadata": {},
   "source": [
    "Create an array of 8 sevens of type float.  \n",
    "Reference: [ones](https://docs.scipy.org/doc/numpy/reference/generated/numpy.ones.html)."
   ]
  },
  {
   "cell_type": "code",
   "execution_count": 3,
   "metadata": {},
   "outputs": [
    {
     "data": {
      "text/plain": [
       "array([7., 7., 7., 7., 7., 7., 7., 7.])"
      ]
     },
     "execution_count": 3,
     "metadata": {},
     "output_type": "execute_result"
    }
   ],
   "source": [
    "np.ones(8) * 7"
   ]
  },
  {
   "cell_type": "markdown",
   "metadata": {},
   "source": [
    "Create an array of integers in `[5, 20]`.  \n",
    "Reference: [arange](https://docs.scipy.org/doc/numpy/reference/generated/numpy.arange.html)."
   ]
  },
  {
   "cell_type": "code",
   "execution_count": 4,
   "metadata": {},
   "outputs": [
    {
     "data": {
      "text/plain": [
       "array([ 5,  6,  7,  8,  9, 10, 11, 12, 13, 14, 15, 16, 17, 18, 19, 20])"
      ]
     },
     "execution_count": 4,
     "metadata": {},
     "output_type": "execute_result"
    }
   ],
   "source": [
    "np.arange(5, 21)"
   ]
  },
  {
   "cell_type": "markdown",
   "metadata": {},
   "source": [
    "Create an array of integers in `[5, 20]` that are divisible by 3.  \n",
    "Reference: [arange](https://docs.scipy.org/doc/numpy/reference/generated/numpy.arange.html)."
   ]
  },
  {
   "cell_type": "code",
   "execution_count": 5,
   "metadata": {},
   "outputs": [
    {
     "data": {
      "text/plain": [
       "array([ 6,  9, 12, 15, 18])"
      ]
     },
     "execution_count": 5,
     "metadata": {},
     "output_type": "execute_result"
    }
   ],
   "source": [
    "np.arange(6, 21, 3)"
   ]
  },
  {
   "cell_type": "markdown",
   "metadata": {},
   "source": [
    "Create a 4x4 matrix containing all integers in `[5, 20]`.  \n",
    "Reference: [reshape](https://docs.scipy.org/doc/numpy/reference/generated/numpy.ndarray.reshape.html)."
   ]
  },
  {
   "cell_type": "code",
   "execution_count": 6,
   "metadata": {},
   "outputs": [
    {
     "data": {
      "text/plain": [
       "array([[ 5,  6,  7,  8],\n",
       "       [ 9, 10, 11, 12],\n",
       "       [13, 14, 15, 16],\n",
       "       [17, 18, 19, 20]])"
      ]
     },
     "execution_count": 6,
     "metadata": {},
     "output_type": "execute_result"
    }
   ],
   "source": [
    "np.arange(5, 21).reshape(4, 4)"
   ]
  },
  {
   "cell_type": "markdown",
   "metadata": {},
   "source": [
    "Create an array containing 21 evenly spaced values in `[-1, 1]`.  \n",
    "Reference: [linspace](https://docs.scipy.org/doc/numpy/reference/generated/numpy.linspace.html)."
   ]
  },
  {
   "cell_type": "code",
   "execution_count": 7,
   "metadata": {},
   "outputs": [
    {
     "data": {
      "text/plain": [
       "array([-1. , -0.9, -0.8, -0.7, -0.6, -0.5, -0.4, -0.3, -0.2, -0.1,  0. ,\n",
       "        0.1,  0.2,  0.3,  0.4,  0.5,  0.6,  0.7,  0.8,  0.9,  1. ])"
      ]
     },
     "execution_count": 7,
     "metadata": {},
     "output_type": "execute_result"
    }
   ],
   "source": [
    "np.linspace(-1, 1, 21)"
   ]
  },
  {
   "cell_type": "markdown",
   "metadata": {},
   "source": [
    "Run the next cell to generate the matrix `mat`."
   ]
  },
  {
   "cell_type": "code",
   "execution_count": 8,
   "metadata": {},
   "outputs": [
    {
     "name": "stdout",
     "output_type": "stream",
     "text": [
      "[[ 7 19 16  3]\n",
      " [ 5  8  6  8]\n",
      " [ 9 18  3  7]]\n"
     ]
    }
   ],
   "source": [
    "mat = np.random.randint(1, 20, 12).reshape(3, 4)\n",
    "print(mat)"
   ]
  },
  {
   "cell_type": "markdown",
   "metadata": {},
   "source": [
    "Given the matrix `mat` solve the following tasks."
   ]
  },
  {
   "cell_type": "markdown",
   "metadata": {},
   "source": [
    "Display the shape of the matrix and the data type of its entries.  \n",
    "Reference: [shape](https://docs.scipy.org/doc/numpy/reference/generated/numpy.ndarray.shape.html), [dtype](https://docs.scipy.org/doc/numpy/reference/generated/numpy.ndarray.dtype.html)."
   ]
  },
  {
   "cell_type": "code",
   "execution_count": 9,
   "metadata": {},
   "outputs": [
    {
     "name": "stdout",
     "output_type": "stream",
     "text": [
      "The matrix has 3 rows and 4 columns. It contains objects of type int64.\n"
     ]
    }
   ],
   "source": [
    "print(f'The matrix has {mat.shape[0]} rows and {mat.shape[1]} columns. It contains objects of type {mat.dtype}.')"
   ]
  },
  {
   "cell_type": "markdown",
   "metadata": {},
   "source": [
    "Find the minimum and the maximum value of the matrix. Display them with their corresponding indices.  \n",
    "Reference: [min](https://docs.scipy.org/doc/numpy/reference/generated/numpy.ndarray.min.html), [max](https://docs.scipy.org/doc/numpy/reference/generated/numpy.ndarray.max.html), [argmin](https://docs.scipy.org/doc/numpy/reference/generated/numpy.ndarray.argmin.html), [argmax](https://docs.scipy.org/doc/numpy/reference/generated/numpy.ndarray.argmax.html)."
   ]
  },
  {
   "cell_type": "code",
   "execution_count": 10,
   "metadata": {},
   "outputs": [
    {
     "name": "stdout",
     "output_type": "stream",
     "text": [
      "Minimum value 3 at index 3\n",
      "Maximum value 19 at index 1\n"
     ]
    }
   ],
   "source": [
    "print(f'Minimum value {mat.min()} at index {mat.argmin()}')\n",
    "print(f'Maximum value {mat.max()} at index {mat.argmax()}')"
   ]
  },
  {
   "cell_type": "markdown",
   "metadata": {},
   "source": [
    "## Indexing and Broadcasting\n",
    "Reference: [indexing](https://docs.scipy.org/doc/numpy/reference/arrays.indexing.html), [broadcasting](https://docs.scipy.org/doc/numpy/user/basics.broadcasting.html)."
   ]
  },
  {
   "cell_type": "markdown",
   "metadata": {},
   "source": [
    "Run the next cell to generate the array `arr`."
   ]
  },
  {
   "cell_type": "code",
   "execution_count": 11,
   "metadata": {},
   "outputs": [
    {
     "name": "stdout",
     "output_type": "stream",
     "text": [
      "[-5 -4 -3 -2 -1  0  1  2  3  4  5]\n"
     ]
    }
   ],
   "source": [
    "arr = np.linspace(-5, 5, 11, dtype=int)\n",
    "print(arr)"
   ]
  },
  {
   "cell_type": "markdown",
   "metadata": {},
   "source": [
    "Display the last element of `arr`."
   ]
  },
  {
   "cell_type": "code",
   "execution_count": 12,
   "metadata": {},
   "outputs": [
    {
     "data": {
      "text/plain": [
       "5"
      ]
     },
     "execution_count": 12,
     "metadata": {},
     "output_type": "execute_result"
    }
   ],
   "source": [
    "arr[-1]"
   ]
  },
  {
   "cell_type": "markdown",
   "metadata": {},
   "source": [
    "Display the first 5 elements of `arr`."
   ]
  },
  {
   "cell_type": "code",
   "execution_count": 13,
   "metadata": {},
   "outputs": [
    {
     "data": {
      "text/plain": [
       "array([-5, -4, -3, -2, -1])"
      ]
     },
     "execution_count": 13,
     "metadata": {},
     "output_type": "execute_result"
    }
   ],
   "source": [
    "arr[:5]"
   ]
  },
  {
   "cell_type": "markdown",
   "metadata": {},
   "source": [
    "Store a slice of `arr` containing values in range `[-3, 3]` in a variable `arr_slice`. Display `arr_slice`."
   ]
  },
  {
   "cell_type": "code",
   "execution_count": 14,
   "metadata": {},
   "outputs": [
    {
     "data": {
      "text/plain": [
       "array([-3, -2, -1,  0,  1,  2,  3])"
      ]
     },
     "execution_count": 14,
     "metadata": {},
     "output_type": "execute_result"
    }
   ],
   "source": [
    "arr_slice = arr[2:-2]\n",
    "arr_slice"
   ]
  },
  {
   "cell_type": "markdown",
   "metadata": {},
   "source": [
    "Replace all values in `arr_slice` with 0. Display `arr_slice`."
   ]
  },
  {
   "cell_type": "code",
   "execution_count": 15,
   "metadata": {},
   "outputs": [
    {
     "data": {
      "text/plain": [
       "array([0, 0, 0, 0, 0, 0, 0])"
      ]
     },
     "execution_count": 15,
     "metadata": {},
     "output_type": "execute_result"
    }
   ],
   "source": [
    "arr_slice[:] = 0\n",
    "arr_slice"
   ]
  },
  {
   "cell_type": "markdown",
   "metadata": {},
   "source": [
    "Display `arr`.  \n",
    "Notice that the corresponding slice also changed in `arr` even though we did not alter it directly. This is because `arr_slice` is a view of the original data and not a copy."
   ]
  },
  {
   "cell_type": "code",
   "execution_count": 16,
   "metadata": {},
   "outputs": [
    {
     "data": {
      "text/plain": [
       "array([-5, -4,  0,  0,  0,  0,  0,  0,  0,  4,  5])"
      ]
     },
     "execution_count": 16,
     "metadata": {},
     "output_type": "execute_result"
    }
   ],
   "source": [
    "arr"
   ]
  },
  {
   "cell_type": "markdown",
   "metadata": {},
   "source": [
    "Now create a copy of the last 3 elements of `arr`. Call it `arr_copy`. Display `arr_copy`.  \n",
    "Reference: [copy](https://docs.scipy.org/doc/numpy/reference/generated/numpy.ndarray.copy.html)."
   ]
  },
  {
   "cell_type": "code",
   "execution_count": 17,
   "metadata": {},
   "outputs": [
    {
     "data": {
      "text/plain": [
       "array([0, 4, 5])"
      ]
     },
     "execution_count": 17,
     "metadata": {},
     "output_type": "execute_result"
    }
   ],
   "source": [
    "arr_copy = arr[-3:].copy()\n",
    "arr_copy"
   ]
  },
  {
   "cell_type": "markdown",
   "metadata": {},
   "source": [
    "Replace the last element of `arr_copy` with 100. Display `arr_copy`."
   ]
  },
  {
   "cell_type": "code",
   "execution_count": 18,
   "metadata": {},
   "outputs": [
    {
     "data": {
      "text/plain": [
       "array([  0,   4, 100])"
      ]
     },
     "execution_count": 18,
     "metadata": {},
     "output_type": "execute_result"
    }
   ],
   "source": [
    "arr_copy[-1] = 100\n",
    "arr_copy"
   ]
  },
  {
   "cell_type": "markdown",
   "metadata": {},
   "source": [
    "Display `arr`.  \n",
    "Notice that the values in the original array were not affected by the changes made to a copy of its slice."
   ]
  },
  {
   "cell_type": "code",
   "execution_count": 19,
   "metadata": {},
   "outputs": [
    {
     "data": {
      "text/plain": [
       "array([-5, -4,  0,  0,  0,  0,  0,  0,  0,  4,  5])"
      ]
     },
     "execution_count": 19,
     "metadata": {},
     "output_type": "execute_result"
    }
   ],
   "source": [
    "arr"
   ]
  },
  {
   "cell_type": "markdown",
   "metadata": {},
   "source": [
    "Run the next cell to generate the matrix `mat`."
   ]
  },
  {
   "cell_type": "code",
   "execution_count": 20,
   "metadata": {
    "scrolled": true
   },
   "outputs": [
    {
     "name": "stdout",
     "output_type": "stream",
     "text": [
      "[[ 5 11  2 19  5]\n",
      " [11 16  3 17 13]\n",
      " [ 9  4  9 14 15]]\n"
     ]
    }
   ],
   "source": [
    "mat = np.random.randint(1, 20, 15).reshape(3, 5)\n",
    "print(mat)"
   ]
  },
  {
   "cell_type": "markdown",
   "metadata": {},
   "source": [
    "Display the last element in the first column of `mat`."
   ]
  },
  {
   "cell_type": "code",
   "execution_count": 21,
   "metadata": {},
   "outputs": [
    {
     "data": {
      "text/plain": [
       "9"
      ]
     },
     "execution_count": 21,
     "metadata": {},
     "output_type": "execute_result"
    }
   ],
   "source": [
    "mat[-1, 0]"
   ]
  },
  {
   "cell_type": "markdown",
   "metadata": {},
   "source": [
    "Display the second row of `mat`."
   ]
  },
  {
   "cell_type": "code",
   "execution_count": 22,
   "metadata": {},
   "outputs": [
    {
     "data": {
      "text/plain": [
       "array([11, 16,  3, 17, 13])"
      ]
     },
     "execution_count": 22,
     "metadata": {},
     "output_type": "execute_result"
    }
   ],
   "source": [
    "mat[1]"
   ]
  },
  {
   "cell_type": "markdown",
   "metadata": {},
   "source": [
    "Display the last column of `mat`."
   ]
  },
  {
   "cell_type": "code",
   "execution_count": 23,
   "metadata": {},
   "outputs": [
    {
     "data": {
      "text/plain": [
       "array([ 5, 13, 15])"
      ]
     },
     "execution_count": 23,
     "metadata": {},
     "output_type": "execute_result"
    }
   ],
   "source": [
    "mat[:, -1]"
   ]
  },
  {
   "cell_type": "markdown",
   "metadata": {},
   "source": [
    "Display the `2x3` slice from the top right corner of `mat`."
   ]
  },
  {
   "cell_type": "code",
   "execution_count": 24,
   "metadata": {},
   "outputs": [
    {
     "data": {
      "text/plain": [
       "array([[ 2, 19,  5],\n",
       "       [ 3, 17, 13]])"
      ]
     },
     "execution_count": 24,
     "metadata": {},
     "output_type": "execute_result"
    }
   ],
   "source": [
    "mat[:2, -3:]"
   ]
  },
  {
   "cell_type": "markdown",
   "metadata": {},
   "source": [
    "Display the second, third, and fifth column of `mat`."
   ]
  },
  {
   "cell_type": "code",
   "execution_count": 25,
   "metadata": {},
   "outputs": [
    {
     "data": {
      "text/plain": [
       "array([[11,  2,  5],\n",
       "       [16,  3, 13],\n",
       "       [ 4,  9, 15]])"
      ]
     },
     "execution_count": 25,
     "metadata": {},
     "output_type": "execute_result"
    }
   ],
   "source": [
    "mat[:, [1, 2, 4]]"
   ]
  },
  {
   "cell_type": "markdown",
   "metadata": {},
   "source": [
    "Run the next cell to generate the array `arr`."
   ]
  },
  {
   "cell_type": "code",
   "execution_count": 26,
   "metadata": {},
   "outputs": [
    {
     "name": "stdout",
     "output_type": "stream",
     "text": [
      "[-7 -6 -5 -4 -3 -2 -1  0  1  2  3  4  5  6]\n"
     ]
    }
   ],
   "source": [
    "arr = np.arange(-7, 7, 1)\n",
    "print(arr)"
   ]
  },
  {
   "cell_type": "markdown",
   "metadata": {},
   "source": [
    "Display the elements or `arr` that are greater than -2."
   ]
  },
  {
   "cell_type": "code",
   "execution_count": 27,
   "metadata": {},
   "outputs": [
    {
     "data": {
      "text/plain": [
       "array([-1,  0,  1,  2,  3,  4,  5,  6])"
      ]
     },
     "execution_count": 27,
     "metadata": {},
     "output_type": "execute_result"
    }
   ],
   "source": [
    "arr[arr > -2]"
   ]
  },
  {
   "cell_type": "markdown",
   "metadata": {},
   "source": [
    "Display the elements of `arr` with absolute values greater than 2."
   ]
  },
  {
   "cell_type": "code",
   "execution_count": 28,
   "metadata": {},
   "outputs": [
    {
     "data": {
      "text/plain": [
       "array([-7, -6, -5, -4, -3,  3,  4,  5,  6])"
      ]
     },
     "execution_count": 28,
     "metadata": {},
     "output_type": "execute_result"
    }
   ],
   "source": [
    "arr[abs(arr) > 2]"
   ]
  },
  {
   "cell_type": "markdown",
   "metadata": {},
   "source": [
    "Display the elements of `arr` in `[-1, 5]`."
   ]
  },
  {
   "cell_type": "code",
   "execution_count": 29,
   "metadata": {},
   "outputs": [
    {
     "data": {
      "text/plain": [
       "array([-1,  0,  1,  2,  3,  4,  5])"
      ]
     },
     "execution_count": 29,
     "metadata": {},
     "output_type": "execute_result"
    }
   ],
   "source": [
    "arr[(arr >= -1) & (arr <= 5)]"
   ]
  },
  {
   "cell_type": "markdown",
   "metadata": {},
   "source": [
    "## Operations"
   ]
  },
  {
   "cell_type": "markdown",
   "metadata": {},
   "source": [
    "Create an array `arr1` containing integers in `[1, 10]` and an array `arr2` containing even integers in `[-4, 16)`."
   ]
  },
  {
   "cell_type": "code",
   "execution_count": 30,
   "metadata": {},
   "outputs": [],
   "source": [
    "arr1 = np.linspace(1, 10, 10)\n",
    "arr2 = np.arange(-4, 16, 2)"
   ]
  },
  {
   "cell_type": "markdown",
   "metadata": {},
   "source": [
    "Make sure that `arr1` and `arr2` have the same length."
   ]
  },
  {
   "cell_type": "code",
   "execution_count": 31,
   "metadata": {},
   "outputs": [
    {
     "data": {
      "text/plain": [
       "True"
      ]
     },
     "execution_count": 31,
     "metadata": {},
     "output_type": "execute_result"
    }
   ],
   "source": [
    "len(arr1) == len(arr2)"
   ]
  },
  {
   "cell_type": "markdown",
   "metadata": {},
   "source": [
    "Add the corresponding elements of `arr1` and `arr2` in two different ways.  \n",
    "Reference: [add](https://docs.scipy.org/doc/numpy/reference/generated/numpy.add.html)."
   ]
  },
  {
   "cell_type": "code",
   "execution_count": 32,
   "metadata": {},
   "outputs": [
    {
     "data": {
      "text/plain": [
       "array([-3.,  0.,  3.,  6.,  9., 12., 15., 18., 21., 24.])"
      ]
     },
     "execution_count": 32,
     "metadata": {},
     "output_type": "execute_result"
    }
   ],
   "source": [
    "np.add(arr1, arr2)"
   ]
  },
  {
   "cell_type": "code",
   "execution_count": 33,
   "metadata": {},
   "outputs": [
    {
     "data": {
      "text/plain": [
       "array([-3.,  0.,  3.,  6.,  9., 12., 15., 18., 21., 24.])"
      ]
     },
     "execution_count": 33,
     "metadata": {},
     "output_type": "execute_result"
    }
   ],
   "source": [
    "arr1 + arr2"
   ]
  },
  {
   "cell_type": "markdown",
   "metadata": {},
   "source": [
    "Subtract each element in `arr2` from the corresponding element in `arr1` in two different ways.  \n",
    "Reference: [subtract](https://docs.scipy.org/doc/numpy/reference/generated/numpy.subtract.html)."
   ]
  },
  {
   "cell_type": "code",
   "execution_count": 34,
   "metadata": {},
   "outputs": [
    {
     "data": {
      "text/plain": [
       "array([ 5.,  4.,  3.,  2.,  1.,  0., -1., -2., -3., -4.])"
      ]
     },
     "execution_count": 34,
     "metadata": {},
     "output_type": "execute_result"
    }
   ],
   "source": [
    "np.subtract(arr1, arr2)"
   ]
  },
  {
   "cell_type": "code",
   "execution_count": 35,
   "metadata": {},
   "outputs": [
    {
     "data": {
      "text/plain": [
       "array([ 5.,  4.,  3.,  2.,  1.,  0., -1., -2., -3., -4.])"
      ]
     },
     "execution_count": 35,
     "metadata": {},
     "output_type": "execute_result"
    }
   ],
   "source": [
    "arr1 - arr2"
   ]
  },
  {
   "cell_type": "markdown",
   "metadata": {},
   "source": [
    "Multiply the corresponding elements of `arr1` and `arr2` in two different ways.  \n",
    "Reference: [multiply](https://docs.scipy.org/doc/numpy/reference/generated/numpy.multiply.html)."
   ]
  },
  {
   "cell_type": "code",
   "execution_count": 36,
   "metadata": {},
   "outputs": [
    {
     "data": {
      "text/plain": [
       "array([ -4.,  -4.,   0.,   8.,  20.,  36.,  56.,  80., 108., 140.])"
      ]
     },
     "execution_count": 36,
     "metadata": {},
     "output_type": "execute_result"
    }
   ],
   "source": [
    "np.multiply(arr1, arr2)"
   ]
  },
  {
   "cell_type": "code",
   "execution_count": 37,
   "metadata": {},
   "outputs": [
    {
     "data": {
      "text/plain": [
       "array([ -4.,  -4.,   0.,   8.,  20.,  36.,  56.,  80., 108., 140.])"
      ]
     },
     "execution_count": 37,
     "metadata": {},
     "output_type": "execute_result"
    }
   ],
   "source": [
    "arr1 * arr2"
   ]
  },
  {
   "cell_type": "markdown",
   "metadata": {},
   "source": [
    "Divide each element of `arr1` by the corresponding element of `arr2` in two different ways. Notice that division by zero results in `inf`, a NumPy constant.  \n",
    "Reference: [divide](https://docs.scipy.org/doc/numpy/reference/generated/numpy.divide.html), [constants](https://docs.scipy.org/doc/numpy/reference/constants.html)."
   ]
  },
  {
   "cell_type": "code",
   "execution_count": 38,
   "metadata": {},
   "outputs": [
    {
     "name": "stderr",
     "output_type": "stream",
     "text": [
      "/Users/geekybrick/opt/miniconda3/lib/python3.7/site-packages/ipykernel_launcher.py:1: RuntimeWarning: divide by zero encountered in true_divide\n",
      "  \"\"\"Entry point for launching an IPython kernel.\n"
     ]
    },
    {
     "data": {
      "text/plain": [
       "array([-0.25      , -1.        ,         inf,  2.        ,  1.25      ,\n",
       "        1.        ,  0.875     ,  0.8       ,  0.75      ,  0.71428571])"
      ]
     },
     "execution_count": 38,
     "metadata": {},
     "output_type": "execute_result"
    }
   ],
   "source": [
    "np.divide(arr1, arr2)"
   ]
  },
  {
   "cell_type": "code",
   "execution_count": 39,
   "metadata": {},
   "outputs": [
    {
     "name": "stderr",
     "output_type": "stream",
     "text": [
      "/Users/geekybrick/opt/miniconda3/lib/python3.7/site-packages/ipykernel_launcher.py:1: RuntimeWarning: divide by zero encountered in true_divide\n",
      "  \"\"\"Entry point for launching an IPython kernel.\n"
     ]
    },
    {
     "data": {
      "text/plain": [
       "array([-0.25      , -1.        ,         inf,  2.        ,  1.25      ,\n",
       "        1.        ,  0.875     ,  0.8       ,  0.75      ,  0.71428571])"
      ]
     },
     "execution_count": 39,
     "metadata": {},
     "output_type": "execute_result"
    }
   ],
   "source": [
    "arr1 / arr2"
   ]
  },
  {
   "cell_type": "markdown",
   "metadata": {},
   "source": [
    "Calculate the following: $\\log(\\sqrt {arr_1} \\cdot arr_2^3)$  \n",
    "Step by step:\n",
    "1. Compute the square root of `arr1`.  \n",
    "Reference: [sqrt](https://docs.scipy.org/doc/numpy/reference/generated/numpy.sqrt.html).\n",
    "2. Compute `arr2` to the third power.  \n",
    "Reference: [power](https://docs.scipy.org/doc/numpy/reference/generated/numpy.power.html).\n",
    "3. Compute the dot product of the vectors produced in steps 1 and 2.  \n",
    "Reference: [dot](https://docs.scipy.org/doc/numpy/reference/generated/numpy.dot.html).\n",
    "4. Compute the natural logarithm of the dot product.  \n",
    "Reference: [log](https://docs.scipy.org/doc/numpy/reference/generated/numpy.log.html).\n",
    "5. Display the result."
   ]
  },
  {
   "cell_type": "code",
   "execution_count": 40,
   "metadata": {},
   "outputs": [
    {
     "data": {
      "text/plain": [
       "9.833988809654358"
      ]
     },
     "execution_count": 40,
     "metadata": {},
     "output_type": "execute_result"
    }
   ],
   "source": [
    "np.log(np.dot(np.sqrt(arr1), np.power(arr2, 3)))"
   ]
  },
  {
   "cell_type": "markdown",
   "metadata": {},
   "source": [
    "Run the next cell to generate an array called `gauss`."
   ]
  },
  {
   "cell_type": "code",
   "execution_count": 41,
   "metadata": {},
   "outputs": [],
   "source": [
    "gauss = np.random.randn(100000)"
   ]
  },
  {
   "cell_type": "markdown",
   "metadata": {},
   "source": [
    "The array `gauss` contains 100000 elements drawn randomly from a Gaussian distribution with expected value of 0 and variance of 1.  \n",
    "Compute its mean and standard deviation. Compare the results to the distribution parameters ($\\mu = 0, \\sigma^2 = 1$).  \n",
    "Reference: [mean](https://docs.scipy.org/doc/numpy/reference/generated/numpy.mean.html), [std](https://docs.scipy.org/doc/numpy/reference/generated/numpy.std.html)."
   ]
  },
  {
   "cell_type": "code",
   "execution_count": 42,
   "metadata": {},
   "outputs": [
    {
     "name": "stdout",
     "output_type": "stream",
     "text": [
      "The absolute difference between the expected value and the observed mean is -0.0004\n",
      "The absolute difference between the expected and observed standard deviation is 0.9991\n"
     ]
    }
   ],
   "source": [
    "print('The absolute difference between the expected value and the observed mean is', round(np.mean(gauss), 4))\n",
    "print('The absolute difference between the expected and observed standard deviation is', round(np.std(gauss), 4))"
   ]
  },
  {
   "cell_type": "markdown",
   "metadata": {},
   "source": [
    "# pandas Exercises"
   ]
  },
  {
   "cell_type": "markdown",
   "metadata": {},
   "source": [
    "pandas is an open source, BSD-licensed library providing high-performance, easy-to-use data structures and data analysis tools for the Python programming language.  \n",
    "Check out the [pandas user guide](https://pandas.pydata.org/docs/user_guide/index.html)."
   ]
  },
  {
   "cell_type": "markdown",
   "metadata": {},
   "source": [
    "Please go through the reference on [indexing and selecting data in pandas](https://pandas.pydata.org/pandas-docs/stable/user_guide/indexing.html) before moving on to the tasks. The process is very similar to NumPy, but the documentation is still worth giving it a look."
   ]
  },
  {
   "cell_type": "markdown",
   "metadata": {},
   "source": [
    "## Series\n",
    "A Series is built on top of the NumPy array object. As opposed to a NumPy array, a Series can be indexed by a label, instead of just a number location. A Series can also hold any arbitrary Python object and not only numbers."
   ]
  },
  {
   "cell_type": "markdown",
   "metadata": {},
   "source": [
    "Create a Series called `price` containing values 1, 2, 3, 4, and 5 labeled apple, banana, avocado, chicken, and fish. Display it.  \n",
    "Reference: [Series](https://pandas.pydata.org/pandas-docs/stable/reference/api/pandas.Series.html)."
   ]
  },
  {
   "cell_type": "code",
   "execution_count": 43,
   "metadata": {},
   "outputs": [
    {
     "data": {
      "text/plain": [
       "apple      1\n",
       "banana     2\n",
       "avocado    3\n",
       "chicken    4\n",
       "fish       5\n",
       "dtype: int64"
      ]
     },
     "execution_count": 43,
     "metadata": {},
     "output_type": "execute_result"
    }
   ],
   "source": [
    "# Multiple ways to do this\n",
    "list_data = [1, 2, 3, 4, 5]\n",
    "labels = ['apple', 'banana', 'avocado', 'chicken', 'fish']\n",
    "price = pd.Series(data=list_data, index=labels)\n",
    "# or\n",
    "np_data = np.array([1, 2, 3, 4, 5])\n",
    "price = pd.Series(data=np_data, index=labels)\n",
    "# or\n",
    "dict_data = {'apple': 1, 'banana': 2, 'avocado': 3, 'chicken': 4, 'fish': 5}\n",
    "price = pd.Series(data=dict_data)\n",
    "\n",
    "price"
   ]
  },
  {
   "cell_type": "markdown",
   "metadata": {},
   "source": [
    "Create another Series called `amount` containing values 50, 30, 15, 20, and 25 with the same labels. Display it.  \n",
    "Reference: [Series](https://pandas.pydata.org/pandas-docs/stable/reference/api/pandas.Series.html)."
   ]
  },
  {
   "cell_type": "code",
   "execution_count": 44,
   "metadata": {},
   "outputs": [
    {
     "data": {
      "text/plain": [
       "apple      50\n",
       "banana     30\n",
       "avocado    15\n",
       "chicken    20\n",
       "fish       25\n",
       "dtype: int64"
      ]
     },
     "execution_count": 44,
     "metadata": {},
     "output_type": "execute_result"
    }
   ],
   "source": [
    "amount = pd.Series(data=[50, 30, 15, 20, 25], index=labels)\n",
    "amount"
   ]
  },
  {
   "cell_type": "markdown",
   "metadata": {},
   "source": [
    "What is the total cost of bananas?  \n",
    "Reference: [multiply](https://pandas.pydata.org/pandas-docs/stable/reference/api/pandas.Series.multiply.html)."
   ]
  },
  {
   "cell_type": "code",
   "execution_count": 45,
   "metadata": {},
   "outputs": [
    {
     "data": {
      "text/plain": [
       "60"
      ]
     },
     "execution_count": 45,
     "metadata": {},
     "output_type": "execute_result"
    }
   ],
   "source": [
    "price.multiply(amount)['banana']\n",
    "# or\n",
    "(price * amount)['banana']\n",
    "# or (optimal)\n",
    "price['banana'] * amount['banana']"
   ]
  },
  {
   "cell_type": "markdown",
   "metadata": {},
   "source": [
    "What is the total cost of all goods?  \n",
    "Reference: [dot](https://pandas.pydata.org/pandas-docs/stable/reference/api/pandas.Series.dot.html)."
   ]
  },
  {
   "cell_type": "code",
   "execution_count": 46,
   "metadata": {},
   "outputs": [
    {
     "data": {
      "text/plain": [
       "360"
      ]
     },
     "execution_count": 46,
     "metadata": {},
     "output_type": "execute_result"
    }
   ],
   "source": [
    "price.dot(amount)"
   ]
  },
  {
   "cell_type": "markdown",
   "metadata": {},
   "source": [
    "## DataFrame\n",
    "Two-dimensional, size-mutable, potentially heterogeneous tabular data.\n",
    "\n",
    "DataFrame structure also contains labeled axes (rows and columns). Arithmetic operations align on both row and column labels. Can be thought of as a dict-like container for Series objects. The primary pandas data structure."
   ]
  },
  {
   "cell_type": "markdown",
   "metadata": {},
   "source": [
    "Create a DataFrame called `goods` using `price` and `amount` from the Series part. Name the columns `price` and `amount`. Each row should contain an entry for each type of good. Display `goods`.  \n",
    "Reference: [DataFrame](https://pandas.pydata.org/pandas-docs/stable/reference/api/pandas.DataFrame.html)."
   ]
  },
  {
   "cell_type": "code",
   "execution_count": 47,
   "metadata": {},
   "outputs": [
    {
     "data": {
      "text/html": [
       "<div>\n",
       "<style scoped>\n",
       "    .dataframe tbody tr th:only-of-type {\n",
       "        vertical-align: middle;\n",
       "    }\n",
       "\n",
       "    .dataframe tbody tr th {\n",
       "        vertical-align: top;\n",
       "    }\n",
       "\n",
       "    .dataframe thead th {\n",
       "        text-align: right;\n",
       "    }\n",
       "</style>\n",
       "<table border=\"1\" class=\"dataframe\">\n",
       "  <thead>\n",
       "    <tr style=\"text-align: right;\">\n",
       "      <th></th>\n",
       "      <th>price</th>\n",
       "      <th>amount</th>\n",
       "    </tr>\n",
       "  </thead>\n",
       "  <tbody>\n",
       "    <tr>\n",
       "      <th>apple</th>\n",
       "      <td>1</td>\n",
       "      <td>50</td>\n",
       "    </tr>\n",
       "    <tr>\n",
       "      <th>banana</th>\n",
       "      <td>2</td>\n",
       "      <td>30</td>\n",
       "    </tr>\n",
       "    <tr>\n",
       "      <th>avocado</th>\n",
       "      <td>3</td>\n",
       "      <td>15</td>\n",
       "    </tr>\n",
       "    <tr>\n",
       "      <th>chicken</th>\n",
       "      <td>4</td>\n",
       "      <td>20</td>\n",
       "    </tr>\n",
       "    <tr>\n",
       "      <th>fish</th>\n",
       "      <td>5</td>\n",
       "      <td>25</td>\n",
       "    </tr>\n",
       "  </tbody>\n",
       "</table>\n",
       "</div>"
      ],
      "text/plain": [
       "         price  amount\n",
       "apple        1      50\n",
       "banana       2      30\n",
       "avocado      3      15\n",
       "chicken      4      20\n",
       "fish         5      25"
      ]
     },
     "execution_count": 47,
     "metadata": {},
     "output_type": "execute_result"
    }
   ],
   "source": [
    "goods = pd.DataFrame(data={'price': price, 'amount': amount})\n",
    "goods"
   ]
  },
  {
   "cell_type": "markdown",
   "metadata": {},
   "source": [
    "How many bananas are in stock?  \n",
    "Reference: [at](https://pandas.pydata.org/pandas-docs/stable/reference/api/pandas.DataFrame.at.html)."
   ]
  },
  {
   "cell_type": "code",
   "execution_count": 48,
   "metadata": {},
   "outputs": [
    {
     "data": {
      "text/plain": [
       "30"
      ]
     },
     "execution_count": 48,
     "metadata": {},
     "output_type": "execute_result"
    }
   ],
   "source": [
    "goods.at['banana', 'amount']"
   ]
  },
  {
   "cell_type": "markdown",
   "metadata": {},
   "source": [
    "Add a column containing the total cost per good. Name it `total_cost`."
   ]
  },
  {
   "cell_type": "code",
   "execution_count": 49,
   "metadata": {},
   "outputs": [],
   "source": [
    "goods['total_cost'] = goods['price'] * goods['amount']"
   ]
  },
  {
   "cell_type": "markdown",
   "metadata": {},
   "source": [
    "Get the first three entries of `goods`.  \n",
    "Reference: [head](https://pandas.pydata.org/pandas-docs/stable/reference/api/pandas.DataFrame.head.html)."
   ]
  },
  {
   "cell_type": "code",
   "execution_count": 50,
   "metadata": {},
   "outputs": [
    {
     "data": {
      "text/html": [
       "<div>\n",
       "<style scoped>\n",
       "    .dataframe tbody tr th:only-of-type {\n",
       "        vertical-align: middle;\n",
       "    }\n",
       "\n",
       "    .dataframe tbody tr th {\n",
       "        vertical-align: top;\n",
       "    }\n",
       "\n",
       "    .dataframe thead th {\n",
       "        text-align: right;\n",
       "    }\n",
       "</style>\n",
       "<table border=\"1\" class=\"dataframe\">\n",
       "  <thead>\n",
       "    <tr style=\"text-align: right;\">\n",
       "      <th></th>\n",
       "      <th>price</th>\n",
       "      <th>amount</th>\n",
       "      <th>total_cost</th>\n",
       "    </tr>\n",
       "  </thead>\n",
       "  <tbody>\n",
       "    <tr>\n",
       "      <th>apple</th>\n",
       "      <td>1</td>\n",
       "      <td>50</td>\n",
       "      <td>50</td>\n",
       "    </tr>\n",
       "    <tr>\n",
       "      <th>banana</th>\n",
       "      <td>2</td>\n",
       "      <td>30</td>\n",
       "      <td>60</td>\n",
       "    </tr>\n",
       "    <tr>\n",
       "      <th>avocado</th>\n",
       "      <td>3</td>\n",
       "      <td>15</td>\n",
       "      <td>45</td>\n",
       "    </tr>\n",
       "  </tbody>\n",
       "</table>\n",
       "</div>"
      ],
      "text/plain": [
       "         price  amount  total_cost\n",
       "apple        1      50          50\n",
       "banana       2      30          60\n",
       "avocado      3      15          45"
      ]
     },
     "execution_count": 50,
     "metadata": {},
     "output_type": "execute_result"
    }
   ],
   "source": [
    "goods.head(3)"
   ]
  },
  {
   "cell_type": "markdown",
   "metadata": {},
   "source": [
    "Run the next cell and proceed to the task below it."
   ]
  },
  {
   "cell_type": "code",
   "execution_count": 51,
   "metadata": {
    "scrolled": true
   },
   "outputs": [
    {
     "data": {
      "text/html": [
       "<div>\n",
       "<style scoped>\n",
       "    .dataframe tbody tr th:only-of-type {\n",
       "        vertical-align: middle;\n",
       "    }\n",
       "\n",
       "    .dataframe tbody tr th {\n",
       "        vertical-align: top;\n",
       "    }\n",
       "\n",
       "    .dataframe thead th {\n",
       "        text-align: right;\n",
       "    }\n",
       "</style>\n",
       "<table border=\"1\" class=\"dataframe\">\n",
       "  <thead>\n",
       "    <tr style=\"text-align: right;\">\n",
       "      <th></th>\n",
       "      <th>price</th>\n",
       "      <th>amount</th>\n",
       "      <th>total_cost</th>\n",
       "      <th>random</th>\n",
       "    </tr>\n",
       "  </thead>\n",
       "  <tbody>\n",
       "    <tr>\n",
       "      <th>apple</th>\n",
       "      <td>1</td>\n",
       "      <td>50</td>\n",
       "      <td>50</td>\n",
       "      <td>0.843080</td>\n",
       "    </tr>\n",
       "    <tr>\n",
       "      <th>banana</th>\n",
       "      <td>2</td>\n",
       "      <td>30</td>\n",
       "      <td>60</td>\n",
       "      <td>0.949952</td>\n",
       "    </tr>\n",
       "    <tr>\n",
       "      <th>avocado</th>\n",
       "      <td>3</td>\n",
       "      <td>15</td>\n",
       "      <td>45</td>\n",
       "      <td>0.014575</td>\n",
       "    </tr>\n",
       "    <tr>\n",
       "      <th>chicken</th>\n",
       "      <td>4</td>\n",
       "      <td>20</td>\n",
       "      <td>80</td>\n",
       "      <td>0.217022</td>\n",
       "    </tr>\n",
       "    <tr>\n",
       "      <th>fish</th>\n",
       "      <td>5</td>\n",
       "      <td>25</td>\n",
       "      <td>125</td>\n",
       "      <td>0.099054</td>\n",
       "    </tr>\n",
       "  </tbody>\n",
       "</table>\n",
       "</div>"
      ],
      "text/plain": [
       "         price  amount  total_cost    random\n",
       "apple        1      50          50  0.843080\n",
       "banana       2      30          60  0.949952\n",
       "avocado      3      15          45  0.014575\n",
       "chicken      4      20          80  0.217022\n",
       "fish         5      25         125  0.099054"
      ]
     },
     "execution_count": 51,
     "metadata": {},
     "output_type": "execute_result"
    }
   ],
   "source": [
    "goods['random'] = np.random.rand(goods.shape[0])\n",
    "goods"
   ]
  },
  {
   "cell_type": "markdown",
   "metadata": {},
   "source": [
    "Oops! A `random` column was added to the data. Remove it.  \n",
    "Reference: [drop](https://pandas.pydata.org/pandas-docs/stable/reference/api/pandas.DataFrame.drop.html)."
   ]
  },
  {
   "cell_type": "code",
   "execution_count": 52,
   "metadata": {
    "scrolled": true
   },
   "outputs": [],
   "source": [
    "goods.drop('random', axis=1, inplace=True)"
   ]
  },
  {
   "cell_type": "markdown",
   "metadata": {},
   "source": [
    "Display the second, third and fourth entry in `goods`.  \n",
    "Reference: [iloc](https://pandas.pydata.org/pandas-docs/stable/reference/api/pandas.DataFrame.iloc.html)."
   ]
  },
  {
   "cell_type": "code",
   "execution_count": 53,
   "metadata": {},
   "outputs": [
    {
     "data": {
      "text/html": [
       "<div>\n",
       "<style scoped>\n",
       "    .dataframe tbody tr th:only-of-type {\n",
       "        vertical-align: middle;\n",
       "    }\n",
       "\n",
       "    .dataframe tbody tr th {\n",
       "        vertical-align: top;\n",
       "    }\n",
       "\n",
       "    .dataframe thead th {\n",
       "        text-align: right;\n",
       "    }\n",
       "</style>\n",
       "<table border=\"1\" class=\"dataframe\">\n",
       "  <thead>\n",
       "    <tr style=\"text-align: right;\">\n",
       "      <th></th>\n",
       "      <th>price</th>\n",
       "      <th>amount</th>\n",
       "      <th>total_cost</th>\n",
       "    </tr>\n",
       "  </thead>\n",
       "  <tbody>\n",
       "    <tr>\n",
       "      <th>banana</th>\n",
       "      <td>2</td>\n",
       "      <td>30</td>\n",
       "      <td>60</td>\n",
       "    </tr>\n",
       "    <tr>\n",
       "      <th>avocado</th>\n",
       "      <td>3</td>\n",
       "      <td>15</td>\n",
       "      <td>45</td>\n",
       "    </tr>\n",
       "    <tr>\n",
       "      <th>chicken</th>\n",
       "      <td>4</td>\n",
       "      <td>20</td>\n",
       "      <td>80</td>\n",
       "    </tr>\n",
       "  </tbody>\n",
       "</table>\n",
       "</div>"
      ],
      "text/plain": [
       "         price  amount  total_cost\n",
       "banana       2      30          60\n",
       "avocado      3      15          45\n",
       "chicken      4      20          80"
      ]
     },
     "execution_count": 53,
     "metadata": {},
     "output_type": "execute_result"
    }
   ],
   "source": [
    "goods.iloc[1:4, :]"
   ]
  },
  {
   "cell_type": "markdown",
   "metadata": {},
   "source": [
    "Display the goods that cost more than 2 and there are at least 18 items in stock."
   ]
  },
  {
   "cell_type": "code",
   "execution_count": 54,
   "metadata": {
    "scrolled": true
   },
   "outputs": [
    {
     "data": {
      "text/html": [
       "<div>\n",
       "<style scoped>\n",
       "    .dataframe tbody tr th:only-of-type {\n",
       "        vertical-align: middle;\n",
       "    }\n",
       "\n",
       "    .dataframe tbody tr th {\n",
       "        vertical-align: top;\n",
       "    }\n",
       "\n",
       "    .dataframe thead th {\n",
       "        text-align: right;\n",
       "    }\n",
       "</style>\n",
       "<table border=\"1\" class=\"dataframe\">\n",
       "  <thead>\n",
       "    <tr style=\"text-align: right;\">\n",
       "      <th></th>\n",
       "      <th>price</th>\n",
       "      <th>amount</th>\n",
       "      <th>total_cost</th>\n",
       "    </tr>\n",
       "  </thead>\n",
       "  <tbody>\n",
       "    <tr>\n",
       "      <th>chicken</th>\n",
       "      <td>4</td>\n",
       "      <td>20</td>\n",
       "      <td>80</td>\n",
       "    </tr>\n",
       "    <tr>\n",
       "      <th>fish</th>\n",
       "      <td>5</td>\n",
       "      <td>25</td>\n",
       "      <td>125</td>\n",
       "    </tr>\n",
       "  </tbody>\n",
       "</table>\n",
       "</div>"
      ],
      "text/plain": [
       "         price  amount  total_cost\n",
       "chicken      4      20          80\n",
       "fish         5      25         125"
      ]
     },
     "execution_count": 54,
     "metadata": {},
     "output_type": "execute_result"
    }
   ],
   "source": [
    "goods[(goods['price'] > 2) & (goods['amount'] >= 18)]"
   ]
  },
  {
   "cell_type": "markdown",
   "metadata": {},
   "source": [
    "Is the good with the least items in stock more expensive than the average price?  \n",
    "Reference: [loc](https://pandas.pydata.org/pandas-docs/stable/reference/api/pandas.DataFrame.loc.html), [min](https://pandas.pydata.org/pandas-docs/stable/reference/api/pandas.Series.min.html), [mean](https://pandas.pydata.org/pandas-docs/stable/reference/api/pandas.Series.mean.html)."
   ]
  },
  {
   "cell_type": "code",
   "execution_count": 55,
   "metadata": {},
   "outputs": [
    {
     "data": {
      "text/plain": [
       "False"
      ]
     },
     "execution_count": 55,
     "metadata": {},
     "output_type": "execute_result"
    }
   ],
   "source": [
    "goods.loc[goods['amount'] == goods['amount'].min(), 'price'][0] > goods['price'].mean()"
   ]
  },
  {
   "cell_type": "markdown",
   "metadata": {},
   "source": [
    "Run the next cell and proceed to the task below it."
   ]
  },
  {
   "cell_type": "code",
   "execution_count": 56,
   "metadata": {},
   "outputs": [
    {
     "data": {
      "text/html": [
       "<div>\n",
       "<style scoped>\n",
       "    .dataframe tbody tr th:only-of-type {\n",
       "        vertical-align: middle;\n",
       "    }\n",
       "\n",
       "    .dataframe tbody tr th {\n",
       "        vertical-align: top;\n",
       "    }\n",
       "\n",
       "    .dataframe thead th {\n",
       "        text-align: right;\n",
       "    }\n",
       "</style>\n",
       "<table border=\"1\" class=\"dataframe\">\n",
       "  <thead>\n",
       "    <tr style=\"text-align: right;\">\n",
       "      <th></th>\n",
       "      <th>price</th>\n",
       "      <th>amount</th>\n",
       "      <th>total_cost</th>\n",
       "      <th>demand</th>\n",
       "    </tr>\n",
       "  </thead>\n",
       "  <tbody>\n",
       "    <tr>\n",
       "      <th>apple</th>\n",
       "      <td>1</td>\n",
       "      <td>50.0</td>\n",
       "      <td>50.0</td>\n",
       "      <td>high</td>\n",
       "    </tr>\n",
       "    <tr>\n",
       "      <th>banana</th>\n",
       "      <td>2</td>\n",
       "      <td>NaN</td>\n",
       "      <td>NaN</td>\n",
       "      <td>low</td>\n",
       "    </tr>\n",
       "    <tr>\n",
       "      <th>avocado</th>\n",
       "      <td>3</td>\n",
       "      <td>15.0</td>\n",
       "      <td>45.0</td>\n",
       "      <td>NaN</td>\n",
       "    </tr>\n",
       "    <tr>\n",
       "      <th>chicken</th>\n",
       "      <td>4</td>\n",
       "      <td>20.0</td>\n",
       "      <td>80.0</td>\n",
       "      <td>low</td>\n",
       "    </tr>\n",
       "    <tr>\n",
       "      <th>fish</th>\n",
       "      <td>5</td>\n",
       "      <td>25.0</td>\n",
       "      <td>125.0</td>\n",
       "      <td>NaN</td>\n",
       "    </tr>\n",
       "  </tbody>\n",
       "</table>\n",
       "</div>"
      ],
      "text/plain": [
       "         price  amount  total_cost demand\n",
       "apple        1    50.0        50.0   high\n",
       "banana       2     NaN         NaN    low\n",
       "avocado      3    15.0        45.0    NaN\n",
       "chicken      4    20.0        80.0    low\n",
       "fish         5    25.0       125.0    NaN"
      ]
     },
     "execution_count": 56,
     "metadata": {},
     "output_type": "execute_result"
    }
   ],
   "source": [
    "goods['demand'] = ['high', 'low', np.nan, 'low', np.nan]\n",
    "goods.loc['banana', ['amount', 'total_cost']] = np.nan\n",
    "goods"
   ]
  },
  {
   "cell_type": "markdown",
   "metadata": {},
   "source": [
    "A column `demand` was added to `goods`. Also, the `amount` and `total_cost` of bananas are missing.  \n",
    "Drop all entries with a missing `amount`. Also, fill the missing demands with `medium`. Display the result.  \n",
    "Reference: [dropna](https://pandas.pydata.org/pandas-docs/stable/reference/api/pandas.DataFrame.dropna.html), [fillna](https://pandas.pydata.org/pandas-docs/stable/reference/api/pandas.Series.fillna.html)."
   ]
  },
  {
   "cell_type": "code",
   "execution_count": 57,
   "metadata": {},
   "outputs": [
    {
     "data": {
      "text/html": [
       "<div>\n",
       "<style scoped>\n",
       "    .dataframe tbody tr th:only-of-type {\n",
       "        vertical-align: middle;\n",
       "    }\n",
       "\n",
       "    .dataframe tbody tr th {\n",
       "        vertical-align: top;\n",
       "    }\n",
       "\n",
       "    .dataframe thead th {\n",
       "        text-align: right;\n",
       "    }\n",
       "</style>\n",
       "<table border=\"1\" class=\"dataframe\">\n",
       "  <thead>\n",
       "    <tr style=\"text-align: right;\">\n",
       "      <th></th>\n",
       "      <th>price</th>\n",
       "      <th>amount</th>\n",
       "      <th>total_cost</th>\n",
       "      <th>demand</th>\n",
       "    </tr>\n",
       "  </thead>\n",
       "  <tbody>\n",
       "    <tr>\n",
       "      <th>apple</th>\n",
       "      <td>1</td>\n",
       "      <td>50.0</td>\n",
       "      <td>50.0</td>\n",
       "      <td>high</td>\n",
       "    </tr>\n",
       "    <tr>\n",
       "      <th>avocado</th>\n",
       "      <td>3</td>\n",
       "      <td>15.0</td>\n",
       "      <td>45.0</td>\n",
       "      <td>medium</td>\n",
       "    </tr>\n",
       "    <tr>\n",
       "      <th>chicken</th>\n",
       "      <td>4</td>\n",
       "      <td>20.0</td>\n",
       "      <td>80.0</td>\n",
       "      <td>low</td>\n",
       "    </tr>\n",
       "    <tr>\n",
       "      <th>fish</th>\n",
       "      <td>5</td>\n",
       "      <td>25.0</td>\n",
       "      <td>125.0</td>\n",
       "      <td>medium</td>\n",
       "    </tr>\n",
       "  </tbody>\n",
       "</table>\n",
       "</div>"
      ],
      "text/plain": [
       "         price  amount  total_cost  demand\n",
       "apple        1    50.0        50.0    high\n",
       "avocado      3    15.0        45.0  medium\n",
       "chicken      4    20.0        80.0     low\n",
       "fish         5    25.0       125.0  medium"
      ]
     },
     "execution_count": 57,
     "metadata": {},
     "output_type": "execute_result"
    }
   ],
   "source": [
    "goods.dropna(subset=['amount'], inplace=True)\n",
    "goods.loc[:, 'demand'].fillna('medium', inplace=True)\n",
    "goods"
   ]
  },
  {
   "cell_type": "markdown",
   "metadata": {},
   "source": [
    "Run the next cell and proceed to the task below it."
   ]
  },
  {
   "cell_type": "code",
   "execution_count": 58,
   "metadata": {},
   "outputs": [
    {
     "data": {
      "text/html": [
       "<div>\n",
       "<style scoped>\n",
       "    .dataframe tbody tr th:only-of-type {\n",
       "        vertical-align: middle;\n",
       "    }\n",
       "\n",
       "    .dataframe tbody tr th {\n",
       "        vertical-align: top;\n",
       "    }\n",
       "\n",
       "    .dataframe thead th {\n",
       "        text-align: right;\n",
       "    }\n",
       "</style>\n",
       "<table border=\"1\" class=\"dataframe\">\n",
       "  <thead>\n",
       "    <tr style=\"text-align: right;\">\n",
       "      <th></th>\n",
       "      <th>price</th>\n",
       "      <th>amount</th>\n",
       "      <th>total_cost</th>\n",
       "      <th>demand</th>\n",
       "    </tr>\n",
       "  </thead>\n",
       "  <tbody>\n",
       "    <tr>\n",
       "      <th>apple</th>\n",
       "      <td>1.0</td>\n",
       "      <td>50.0</td>\n",
       "      <td>50.0</td>\n",
       "      <td>high</td>\n",
       "    </tr>\n",
       "    <tr>\n",
       "      <th>avocado</th>\n",
       "      <td>3.0</td>\n",
       "      <td>15.0</td>\n",
       "      <td>45.0</td>\n",
       "      <td>medium</td>\n",
       "    </tr>\n",
       "    <tr>\n",
       "      <th>chicken</th>\n",
       "      <td>4.0</td>\n",
       "      <td>20.0</td>\n",
       "      <td>80.0</td>\n",
       "      <td>low</td>\n",
       "    </tr>\n",
       "    <tr>\n",
       "      <th>fish</th>\n",
       "      <td>5.0</td>\n",
       "      <td>25.0</td>\n",
       "      <td>125.0</td>\n",
       "      <td>medium</td>\n",
       "    </tr>\n",
       "    <tr>\n",
       "      <th>eggs</th>\n",
       "      <td>2.5</td>\n",
       "      <td>50.0</td>\n",
       "      <td>125.0</td>\n",
       "      <td>high</td>\n",
       "    </tr>\n",
       "    <tr>\n",
       "      <th>juice</th>\n",
       "      <td>2.5</td>\n",
       "      <td>25.0</td>\n",
       "      <td>50.0</td>\n",
       "      <td>medium</td>\n",
       "    </tr>\n",
       "  </tbody>\n",
       "</table>\n",
       "</div>"
      ],
      "text/plain": [
       "         price  amount  total_cost  demand\n",
       "apple      1.0    50.0        50.0    high\n",
       "avocado    3.0    15.0        45.0  medium\n",
       "chicken    4.0    20.0        80.0     low\n",
       "fish       5.0    25.0       125.0  medium\n",
       "eggs       2.5    50.0       125.0    high\n",
       "juice      2.5    25.0        50.0  medium"
      ]
     },
     "execution_count": 58,
     "metadata": {},
     "output_type": "execute_result"
    }
   ],
   "source": [
    "goods.loc['eggs'] = [2.5, 50, 2.5*50, 'high']\n",
    "goods.loc['juice'] = [2.5, 25, 2*25, 'medium']\n",
    "goods"
   ]
  },
  {
   "cell_type": "markdown",
   "metadata": {},
   "source": [
    "Two new entries, `eggs` and `juice` were added to `goods`.  \n",
    "How many unique prices are there in `goods`? What are they?  \n",
    "Reference: [unique](https://pandas.pydata.org/pandas-docs/stable/reference/api/pandas.Series.unique.html), [nunique](https://pandas.pydata.org/pandas-docs/stable/reference/api/pandas.Series.nunique.html)."
   ]
  },
  {
   "cell_type": "code",
   "execution_count": 59,
   "metadata": {},
   "outputs": [
    {
     "name": "stdout",
     "output_type": "stream",
     "text": [
      "There are 5 unique prices: [1.0, 2.5, 3.0, 4.0, 5.0]\n"
     ]
    }
   ],
   "source": [
    "print('There are', goods['price'].nunique(), 'unique prices:', sorted(goods['price'].unique()))"
   ]
  },
  {
   "cell_type": "markdown",
   "metadata": {},
   "source": [
    "# Matplotlib, Seaborn, Scikit-Learn Exercises"
   ]
  },
  {
   "cell_type": "markdown",
   "metadata": {},
   "source": [
    "`matplotlib` is a comprehensive library for creating static, animated, and interactive visualizations in Python. See the [matplotlib user's guide](https://matplotlib.org/users/index.html).  \n",
    "`seaborn` is a Python data visualization library based on `matplotlib`. It provides a high-level interface for drawing attractive and informative statistical graphics. Check out the [seaborn introduction](https://seaborn.pydata.org/introduction.html).  \n",
    "`scikit-learn` is an open-source simple and efficient collection of tools for predictive data analysis built on `NumPy`, `SciPy`, and `matplotlib`. Check out the [scikit-learn user guide](https://scikit-learn.org/stable/user_guide.html)."
   ]
  },
  {
   "cell_type": "markdown",
   "metadata": {},
   "source": [
    "We will use `seaborn` for plotting, since it produces more aesthetically pleasing graphs in a simpler manner than `matplotlib`. As the `seaborn` library is based on `matplotlib`, multiple `matplotlib` functions (setting the title, labels, axis names, plot sizing, etc.) will be covered in this exercise as well.  "
   ]
  },
  {
   "cell_type": "markdown",
   "metadata": {},
   "source": [
    "Hint: don't forget to call `plt.show()` after buiding a plot, if you want to display it. Otherwise, you may unknowingly start building a new graph on top of the old one."
   ]
  },
  {
   "cell_type": "markdown",
   "metadata": {},
   "source": [
    "Use `NumPy` to generate an array of integers between 1 and 10. Store it in a variable `x`."
   ]
  },
  {
   "cell_type": "code",
   "execution_count": 60,
   "metadata": {},
   "outputs": [],
   "source": [
    "x = np.linspace(1, 10, 10, dtype=int)"
   ]
  },
  {
   "cell_type": "markdown",
   "metadata": {},
   "source": [
    "Plot a simple line depicting the squared values of `x` against `x`.  \n",
    "Reference: [lineplot](https://seaborn.pydata.org/generated/seaborn.lineplot.html)."
   ]
  },
  {
   "cell_type": "code",
   "execution_count": 61,
   "metadata": {
    "scrolled": true
   },
   "outputs": [
    {
     "data": {
      "image/png": "[encoded data removed]",
      "text/plain": [
       "<Figure size 432x288 with 1 Axes>"
      ]
     },
     "metadata": {
      "image/png": {
       "height": 248,
       "width": 375
      },
      "needs_background": "light"
     },
     "output_type": "display_data"
    }
   ],
   "source": [
    "sns.lineplot(x, x**2)\n",
    "plt.show()"
   ]
  },
  {
   "cell_type": "markdown",
   "metadata": {},
   "source": [
    "Say, you want to compare linear $O(n)$ and quadratic $O(n^2)$ growth.  \n",
    "Plot two lines on the same graph: one depicting the values of `x` and another one depicting the squared values of `x`. Let the first line be black and the second - red. Also, set the line width of both lines to 0.8 to make them look a bit more sharp."
   ]
  },
  {
   "cell_type": "code",
   "execution_count": 62,
   "metadata": {},
   "outputs": [
    {
     "data": {
      "image/png": "[encoded data removed]",
      "text/plain": [
       "<Figure size 432x288 with 1 Axes>"
      ]
     },
     "metadata": {
      "image/png": {
       "height": 248,
       "width": 375
      },
      "needs_background": "light"
     },
     "output_type": "display_data"
    }
   ],
   "source": [
    "sns.lineplot(x, x, color='k', linewidth=.8)\n",
    "sns.lineplot(x, x**2, color='r', linewidth=.8)\n",
    "plt.show()"
   ]
  },
  {
   "cell_type": "markdown",
   "metadata": {},
   "source": [
    "Run the next cell to generate the data for the next task."
   ]
  },
  {
   "cell_type": "code",
   "execution_count": 63,
   "metadata": {},
   "outputs": [],
   "source": [
    "height_m = np.random.normal(178, 9, 50)\n",
    "height_f = np.random.normal(164, 7, 50)\n",
    "weight_m = list()\n",
    "weight_f = list()\n",
    "for h in height_m:\n",
    "    weight_m.append(round(h - 100 + np.random.rand() * 10))\n",
    "for h in height_f:\n",
    "    weight_f.append(round(h - 112 + np.random.rand() * 11))\n",
    "weight_m = np.array(weight_m)\n",
    "weight_f = np.array(weight_f)"
   ]
  },
  {
   "cell_type": "markdown",
   "metadata": {},
   "source": [
    "Please note that all 'measurements' given below are generated and do not necessarily represent the reality. They are here for you to practice on.  \n",
    "You are given 4 arrays, each containing 50 entries:\n",
    "- `height_m` contains male height measurements\n",
    "- `height_f` contains female height measurements\n",
    "- `weight_m` contains male weight measurements\n",
    "- `weight_f` contains female weight measurements"
   ]
  },
  {
   "cell_type": "markdown",
   "metadata": {},
   "source": [
    "Perform the following tasks with the given data:\n",
    "- Create a figure containing two subplots.  \n",
    "Reference: [subplots](https://matplotlib.org/3.2.1/api/_as_gen/matplotlib.pyplot.subplots.html#examples-using-matplotlib-pyplot-subplots).\n",
    "- Set the figure size to 12 by 4 inches.  \n",
    "Reference: [set_size_inches](https://matplotlib.org/3.2.1/api/_as_gen/matplotlib.figure.Figure.html#matplotlib.figure.Figure.set_size_inches).\n",
    "- Plot two separate scatter plots: one depicting male weight against male height, and the other one depicting female weight against female height. Set the color of the 'male' data points to green with an alpha of 0.5 and the color of the 'female' data points to yellow with an alpha of 0.9.  \n",
    "Reference: [scatterplot](https://seaborn.pydata.org/generated/seaborn.scatterplot.html).\n",
    "- Set the titles of the graphs to 'male' and 'female' respectively.  \n",
    "Reference: [set_title](https://matplotlib.org/3.2.1/api/_as_gen/matplotlib.axes.Axes.set_title.html).\n",
    "- Set the name of the horizontal axis to 'height' and the vertical one to 'weight' in both graphs.  \n",
    "Reference: [set_xlabel](https://matplotlib.org/3.2.1/api/_as_gen/matplotlib.axes.Axes.set_xlabel.html), [set_ylabel](https://matplotlib.org/3.2.1/api/_as_gen/matplotlib.axes.Axes.set_ylabel.html).\n",
    "- Set the x-limits to (140, 200) and the y-limits to (35, 110) for both graphs to keep the scale the same.  \n",
    "Reference: [set_xlim](https://matplotlib.org/3.2.1/api/_as_gen/matplotlib.axes.Axes.set_xlim.html), [set_ylim](https://matplotlib.org/3.2.1/api/_as_gen/matplotlib.axes.Axes.set_ylim.html).\n",
    "- Set the title of the whole figure to 'Measurements'.  \n",
    "Reference: [suptitle](https://matplotlib.org/3.2.1/api/_as_gen/matplotlib.pyplot.suptitle.html).\n",
    "- Finally, display the figure."
   ]
  },
  {
   "cell_type": "code",
   "execution_count": 64,
   "metadata": {},
   "outputs": [
    {
     "data": {
      "image/png": "[encoded data removed]",
      "text/plain": [
       "<Figure size 864x288 with 2 Axes>"
      ]
     },
     "metadata": {
      "image/png": {
       "height": 290,
       "width": 733
      },
      "needs_background": "light"
     },
     "output_type": "display_data"
    }
   ],
   "source": [
    "fig, ax = plt.subplots(1, 2)\n",
    "fig.set_size_inches(12, 4)\n",
    "sns.scatterplot(height_m, weight_m, ax=ax[0], color='g', alpha=.5)\n",
    "sns.scatterplot(height_f, weight_f, ax=ax[1], color='y', alpha=.9)\n",
    "ax[0].set_xlim(140, 200)\n",
    "ax[1].set_xlim(140, 200)\n",
    "ax[0].set_ylim(35, 110)\n",
    "ax[1].set_ylim(35, 110)\n",
    "ax[0].set_xlabel('height')\n",
    "ax[1].set_xlabel('height')\n",
    "ax[0].set_ylabel('weight')\n",
    "ax[1].set_ylabel('weight')\n",
    "ax[0].set_title('male')\n",
    "ax[1].set_title('female')\n",
    "plt.suptitle('Measurements')\n",
    "plt.show()"
   ]
  },
  {
   "cell_type": "markdown",
   "metadata": {},
   "source": [
    "`scikit-learn` is a massive package, but we will only touch on the topic of regression in this notebook. Please feel free to explore their documentation page and play around with other prediction techniques."
   ]
  },
  {
   "cell_type": "markdown",
   "metadata": {},
   "source": [
    "Perform a simple linear regression based on the 'female' dataset using `scikit-learn`.  \n",
    "Reference: [LinearRegression](https://scikit-learn.org/stable/modules/generated/sklearn.linear_model.LinearRegression.html), [reshape](https://docs.scipy.org/doc/numpy/reference/generated/numpy.reshape.html)."
   ]
  },
  {
   "cell_type": "code",
   "execution_count": 65,
   "metadata": {},
   "outputs": [],
   "source": [
    "lin_reg = LinearRegression()\n",
    "lin_reg.fit(np.reshape(height_f, (-1, 1)), np.reshape(weight_f, (-1, 1)))\n",
    "pred = lin_reg.predict(height_f.reshape(-1, 1))"
   ]
  },
  {
   "cell_type": "markdown",
   "metadata": {},
   "source": [
    "Plot a line corresponding to the best linear fit for your data over the scatter plot of the 'female' measurements. Add a legend to the plot. Place it in the lower right corner.  \n",
    "Reference: [lineplot](https://seaborn.pydata.org/generated/seaborn.lineplot.html), [scatterplot](https://seaborn.pydata.org/generated/seaborn.scatterplot.html), [legend](https://matplotlib.org/3.2.1/api/_as_gen/matplotlib.pyplot.legend.html)."
   ]
  },
  {
   "cell_type": "code",
   "execution_count": 66,
   "metadata": {},
   "outputs": [
    {
     "data": {
      "image/png": "[encoded data removed]",
      "text/plain": [
       "<Figure size 432x288 with 1 Axes>"
      ]
     },
     "metadata": {
      "image/png": {
       "height": 261,
       "width": 382
      },
      "needs_background": "light"
     },
     "output_type": "display_data"
    }
   ],
   "source": [
    "sns.lineplot(height_f, pred.reshape(50), color='r', linewidth=.9, label='Best fit')\n",
    "sns.scatterplot(height_f, weight_f, color='k', label='Observed data')\n",
    "plt.legend(loc=4)\n",
    "plt.xlabel('height')\n",
    "plt.ylabel('weight')\n",
    "plt.show()"
   ]
  },
  {
   "cell_type": "markdown",
   "metadata": {},
   "source": [
    "# Data Preparation and Analysis Project"
   ]
  },
  {
   "cell_type": "markdown",
   "metadata": {},
   "source": [
    "Now you will have an opportunity to gain some insight into the process of data preparation and analysis using `numpy`, `pandas`, `sklearn`, `matplotlib`, and `seaborn` by completing a very simple but realistic \"project\"."
   ]
  },
  {
   "cell_type": "markdown",
   "metadata": {},
   "source": [
    "It is often the case with operations research problems that no well-defined input for a particular mathematical model is available. In this case one needs to to first predict the inputs in order to be able to run the optimization model later.  \n",
    "For this project, imagine that you work for an open-air mall **Aachen ORkaden** which is open around the clock. There are multiple optimization problems that one may encounter here, e.g., which types goods to offer and when; when should each shop in the mall open and close; how to organize the workforce efficiently; which kinds of entertainment to offer and when, etc.  \n",
    "One of the most important inputs for most mathematical models we can build to solve those problems would be the expected number of visitors.  \n",
    "It is now your task to explore and prepare the given data set `visitors_data.csv`, and then to predict the expected number of hourly visitors which could then be used as an input for the multiple optimization models. With our assitance, of course.  \n",
    "Note: the actual optimization problems are outside of the scope of this short introduction to the python libraries for scientific programming. The problems above are given purely as an example."
   ]
  },
  {
   "cell_type": "markdown",
   "metadata": {},
   "source": [
    "A couple of hints: since the mall is open-air, we want to investigate, whether the number of visitors is influenced by the temperature or the cloud coverage outside. The number of visitors may also correlate with the time of day (some people prefer to sleep at night, although, admittedly, not all).  \n",
    "The data set `visitors_data.csv` contains 4 columns:\n",
    "- `temperature`: historical hourly temperature values in $^{\\circ}C$\n",
    "- `clouds`: cloud coverage in $\\%$\n",
    "- `date_time`: date and time of the measurent\n",
    "- `visitors`: the recorded hourly number of visitors"
   ]
  },
  {
   "cell_type": "markdown",
   "metadata": {},
   "source": [
    "Let us begin..."
   ]
  },
  {
   "cell_type": "markdown",
   "metadata": {},
   "source": [
    "Import the data into a DataFrame.   \n",
    "Reference: [read_csv](https://pandas.pydata.org/pandas-docs/stable/reference/api/pandas.read_csv.html)."
   ]
  },
  {
   "cell_type": "code",
   "execution_count": 67,
   "metadata": {},
   "outputs": [],
   "source": [
    "df = pd.read_csv('visitors_data.csv')"
   ]
  },
  {
   "cell_type": "markdown",
   "metadata": {},
   "source": [
    "Display the first 10 entries.  \n",
    "Reference: [head](https://pandas.pydata.org/pandas-docs/stable/reference/api/pandas.DataFrame.head.html)."
   ]
  },
  {
   "cell_type": "code",
   "execution_count": 68,
   "metadata": {},
   "outputs": [
    {
     "data": {
      "text/html": [
       "<div>\n",
       "<style scoped>\n",
       "    .dataframe tbody tr th:only-of-type {\n",
       "        vertical-align: middle;\n",
       "    }\n",
       "\n",
       "    .dataframe tbody tr th {\n",
       "        vertical-align: top;\n",
       "    }\n",
       "\n",
       "    .dataframe thead th {\n",
       "        text-align: right;\n",
       "    }\n",
       "</style>\n",
       "<table border=\"1\" class=\"dataframe\">\n",
       "  <thead>\n",
       "    <tr style=\"text-align: right;\">\n",
       "      <th></th>\n",
       "      <th>temperature</th>\n",
       "      <th>clouds</th>\n",
       "      <th>date_time</th>\n",
       "      <th>visitors</th>\n",
       "    </tr>\n",
       "  </thead>\n",
       "  <tbody>\n",
       "    <tr>\n",
       "      <th>0</th>\n",
       "      <td>15.13</td>\n",
       "      <td>40</td>\n",
       "      <td>2012-10-02 09:00:00</td>\n",
       "      <td>4436.0</td>\n",
       "    </tr>\n",
       "    <tr>\n",
       "      <th>1</th>\n",
       "      <td>16.21</td>\n",
       "      <td>75</td>\n",
       "      <td>2012-10-02 10:00:00</td>\n",
       "      <td>4516.0</td>\n",
       "    </tr>\n",
       "    <tr>\n",
       "      <th>2</th>\n",
       "      <td>16.43</td>\n",
       "      <td>90</td>\n",
       "      <td>2012-10-02 11:00:00</td>\n",
       "      <td>4767.0</td>\n",
       "    </tr>\n",
       "    <tr>\n",
       "      <th>3</th>\n",
       "      <td>16.98</td>\n",
       "      <td>90</td>\n",
       "      <td>2012-10-02 12:00:00</td>\n",
       "      <td>5026.0</td>\n",
       "    </tr>\n",
       "    <tr>\n",
       "      <th>4</th>\n",
       "      <td>17.99</td>\n",
       "      <td>75</td>\n",
       "      <td>2012-10-02 13:00:00</td>\n",
       "      <td>4918.0</td>\n",
       "    </tr>\n",
       "    <tr>\n",
       "      <th>5</th>\n",
       "      <td>18.57</td>\n",
       "      <td>1</td>\n",
       "      <td>2012-10-02 14:00:00</td>\n",
       "      <td>5181.0</td>\n",
       "    </tr>\n",
       "    <tr>\n",
       "      <th>6</th>\n",
       "      <td>20.02</td>\n",
       "      <td>1</td>\n",
       "      <td>2012-10-02 15:00:00</td>\n",
       "      <td>5584.0</td>\n",
       "    </tr>\n",
       "    <tr>\n",
       "      <th>7</th>\n",
       "      <td>20.71</td>\n",
       "      <td>1</td>\n",
       "      <td>2012-10-02 16:00:00</td>\n",
       "      <td>6015.0</td>\n",
       "    </tr>\n",
       "    <tr>\n",
       "      <th>8</th>\n",
       "      <td>20.99</td>\n",
       "      <td>20</td>\n",
       "      <td>2012-10-02 17:00:00</td>\n",
       "      <td>6949.2</td>\n",
       "    </tr>\n",
       "    <tr>\n",
       "      <th>9</th>\n",
       "      <td>19.95</td>\n",
       "      <td>20</td>\n",
       "      <td>2012-10-02 18:00:00</td>\n",
       "      <td>7155.0</td>\n",
       "    </tr>\n",
       "  </tbody>\n",
       "</table>\n",
       "</div>"
      ],
      "text/plain": [
       "   temperature  clouds            date_time  visitors\n",
       "0        15.13      40  2012-10-02 09:00:00    4436.0\n",
       "1        16.21      75  2012-10-02 10:00:00    4516.0\n",
       "2        16.43      90  2012-10-02 11:00:00    4767.0\n",
       "3        16.98      90  2012-10-02 12:00:00    5026.0\n",
       "4        17.99      75  2012-10-02 13:00:00    4918.0\n",
       "5        18.57       1  2012-10-02 14:00:00    5181.0\n",
       "6        20.02       1  2012-10-02 15:00:00    5584.0\n",
       "7        20.71       1  2012-10-02 16:00:00    6015.0\n",
       "8        20.99      20  2012-10-02 17:00:00    6949.2\n",
       "9        19.95      20  2012-10-02 18:00:00    7155.0"
      ]
     },
     "execution_count": 68,
     "metadata": {},
     "output_type": "execute_result"
    }
   ],
   "source": [
    "df.head(10)"
   ]
  },
  {
   "cell_type": "markdown",
   "metadata": {},
   "source": [
    "Check the data type of the `date_time` feature. What is it?  \n",
    "Reference: [dtype](https://pandas.pydata.org/pandas-docs/stable/reference/api/pandas.Series.dtype.html)."
   ]
  },
  {
   "cell_type": "code",
   "execution_count": 69,
   "metadata": {},
   "outputs": [
    {
     "name": "stdout",
     "output_type": "stream",
     "text": [
      "Data type before conversion: object\n"
     ]
    }
   ],
   "source": [
    "print('Data type before conversion:', df['date_time'].dtype)"
   ]
  },
  {
   "cell_type": "markdown",
   "metadata": {},
   "source": [
    "If it is not `datetime64`, convert it to such.  \n",
    "The `datetime64` data type allows us to perform operations on date and time features. This will be needed for the next step.  \n",
    "Display the data type again to make sure it was converted correctly.  \n",
    "Reference: [to_datetime](https://pandas.pydata.org/pandas-docs/stable/reference/api/pandas.to_datetime.html)."
   ]
  },
  {
   "cell_type": "code",
   "execution_count": 70,
   "metadata": {},
   "outputs": [
    {
     "name": "stdout",
     "output_type": "stream",
     "text": [
      "Data type after conversion: datetime64[ns]\n"
     ]
    }
   ],
   "source": [
    "df['date_time'] = pd.to_datetime(df['date_time'])\n",
    "print('Data type after conversion:', df['date_time'].dtype)"
   ]
  },
  {
   "cell_type": "markdown",
   "metadata": {},
   "source": [
    "Create a column `date` containing the date and a column `hour` containing the hour of the measurement using the data in the column `date_time`.  \n",
    "Remove the `date_time` column since it is no longer needed.  \n",
    "Display the last 5 entries of the edited DataFrame.  \n",
    "Reference: [dt.date](https://pandas.pydata.org/pandas-docs/stable/reference/api/pandas.Series.dt.date.html), [dt.hour](https://pandas.pydata.org/pandas-docs/stable/reference/api/pandas.Series.dt.hour.html), [drop](https://pandas.pydata.org/pandas-docs/stable/reference/api/pandas.DataFrame.drop.html), [tail](https://pandas.pydata.org/pandas-docs/stable/reference/api/pandas.DataFrame.tail.html)."
   ]
  },
  {
   "cell_type": "code",
   "execution_count": 71,
   "metadata": {},
   "outputs": [],
   "source": [
    "df['date'] = df['date_time'].dt.date\n",
    "df['hour'] = df['date_time'].dt.hour\n",
    "df.drop('date_time', axis=1, inplace=True)"
   ]
  },
  {
   "cell_type": "code",
   "execution_count": 72,
   "metadata": {
    "scrolled": false
   },
   "outputs": [
    {
     "data": {
      "text/html": [
       "<div>\n",
       "<style scoped>\n",
       "    .dataframe tbody tr th:only-of-type {\n",
       "        vertical-align: middle;\n",
       "    }\n",
       "\n",
       "    .dataframe tbody tr th {\n",
       "        vertical-align: top;\n",
       "    }\n",
       "\n",
       "    .dataframe thead th {\n",
       "        text-align: right;\n",
       "    }\n",
       "</style>\n",
       "<table border=\"1\" class=\"dataframe\">\n",
       "  <thead>\n",
       "    <tr style=\"text-align: right;\">\n",
       "      <th></th>\n",
       "      <th>temperature</th>\n",
       "      <th>clouds</th>\n",
       "      <th>visitors</th>\n",
       "      <th>date</th>\n",
       "      <th>hour</th>\n",
       "    </tr>\n",
       "  </thead>\n",
       "  <tbody>\n",
       "    <tr>\n",
       "      <th>48199</th>\n",
       "      <td>10.30</td>\n",
       "      <td>75</td>\n",
       "      <td>7086.0</td>\n",
       "      <td>2018-09-30</td>\n",
       "      <td>19</td>\n",
       "    </tr>\n",
       "    <tr>\n",
       "      <th>48200</th>\n",
       "      <td>9.61</td>\n",
       "      <td>90</td>\n",
       "      <td>6118.2</td>\n",
       "      <td>2018-09-30</td>\n",
       "      <td>20</td>\n",
       "    </tr>\n",
       "    <tr>\n",
       "      <th>48201</th>\n",
       "      <td>9.58</td>\n",
       "      <td>90</td>\n",
       "      <td>4533.9</td>\n",
       "      <td>2018-09-30</td>\n",
       "      <td>21</td>\n",
       "    </tr>\n",
       "    <tr>\n",
       "      <th>48202</th>\n",
       "      <td>8.94</td>\n",
       "      <td>90</td>\n",
       "      <td>3625.0</td>\n",
       "      <td>2018-09-30</td>\n",
       "      <td>22</td>\n",
       "    </tr>\n",
       "    <tr>\n",
       "      <th>48203</th>\n",
       "      <td>8.97</td>\n",
       "      <td>90</td>\n",
       "      <td>2575.8</td>\n",
       "      <td>2018-09-30</td>\n",
       "      <td>23</td>\n",
       "    </tr>\n",
       "  </tbody>\n",
       "</table>\n",
       "</div>"
      ],
      "text/plain": [
       "       temperature  clouds  visitors        date  hour\n",
       "48199        10.30      75    7086.0  2018-09-30    19\n",
       "48200         9.61      90    6118.2  2018-09-30    20\n",
       "48201         9.58      90    4533.9  2018-09-30    21\n",
       "48202         8.94      90    3625.0  2018-09-30    22\n",
       "48203         8.97      90    2575.8  2018-09-30    23"
      ]
     },
     "execution_count": 72,
     "metadata": {},
     "output_type": "execute_result"
    }
   ],
   "source": [
    "df.tail()"
   ]
  },
  {
   "cell_type": "markdown",
   "metadata": {},
   "source": [
    "Use a box plot of `temperature` with whiskers representing a distance of 1.5 times the IQR to determine the outliers.  \n",
    "Reminder: the values below the lower-whisker and above the upper-whisker are considered outliers.  \n",
    "Reference: [boxplot](https://seaborn.pydata.org/generated/seaborn.boxplot.html)."
   ]
  },
  {
   "cell_type": "code",
   "execution_count": 73,
   "metadata": {
    "scrolled": true
   },
   "outputs": [
    {
     "data": {
      "image/png": "[encoded data removed]",
      "text/plain": [
       "<Figure size 432x288 with 1 Axes>"
      ]
     },
     "metadata": {
      "image/png": {
       "height": 277,
       "width": 357
      },
      "needs_background": "light"
     },
     "output_type": "display_data"
    }
   ],
   "source": [
    "sns.boxplot(df['temperature'])\n",
    "plt.title('Temperature with outliers')\n",
    "plt.show()"
   ]
  },
  {
   "cell_type": "markdown",
   "metadata": {},
   "source": [
    "Remove the entries containing the outliers from `visitors_data`."
   ]
  },
  {
   "cell_type": "code",
   "execution_count": 74,
   "metadata": {},
   "outputs": [],
   "source": [
    "# Calculate the IQR\n",
    "Q1 = df['temperature'].quantile(0.25)\n",
    "Q3 = df['temperature'].quantile(0.75)\n",
    "IQR = Q3 - Q1\n",
    "\n",
    "# Remove the outliers (values that are less than Q1 - 1.5 * IQR or greater than Q3 + 1.5 * IQR)\n",
    "df = df[~((df['temperature'] < (Q1 - 1.5 * IQR)) | (df['temperature'] > (Q3 + 1.5 * IQR)))]"
   ]
  },
  {
   "cell_type": "markdown",
   "metadata": {},
   "source": [
    "Display the cleaned `temperature` data using a box plot again. Make sure that the outliers were removed correctly.  \n",
    "Reference: [boxplot](https://seaborn.pydata.org/generated/seaborn.boxplot.html)."
   ]
  },
  {
   "cell_type": "code",
   "execution_count": 75,
   "metadata": {},
   "outputs": [
    {
     "data": {
      "image/png": "[encoded data removed]",
      "text/plain": [
       "<Figure size 432x288 with 1 Axes>"
      ]
     },
     "metadata": {
      "image/png": {
       "height": 277,
       "width": 357
      },
      "needs_background": "light"
     },
     "output_type": "display_data"
    }
   ],
   "source": [
    "sns.boxplot(df['temperature'])\n",
    "plt.title('Temperature without outliers')\n",
    "plt.show()"
   ]
  },
  {
   "cell_type": "markdown",
   "metadata": {},
   "source": [
    "Reset the index of `visitors_data` so that it is consistent with the number of data points.  \n",
    "Reference: [reset_index](https://pandas.pydata.org/pandas-docs/stable/reference/api/pandas.DataFrame.reset_index.html)."
   ]
  },
  {
   "cell_type": "code",
   "execution_count": 76,
   "metadata": {},
   "outputs": [],
   "source": [
    "df.reset_index(inplace=True, drop=True)"
   ]
  },
  {
   "cell_type": "markdown",
   "metadata": {},
   "source": [
    "Check whether the `visitors` column contains missing (NaN) values. If yes, how many?  \n",
    "Reference: [isna](https://pandas.pydata.org/pandas-docs/stable/reference/api/pandas.Series.isna.html)."
   ]
  },
  {
   "cell_type": "code",
   "execution_count": 77,
   "metadata": {
    "scrolled": true
   },
   "outputs": [
    {
     "name": "stdout",
     "output_type": "stream",
     "text": [
      "There are 625 missing values.\n"
     ]
    }
   ],
   "source": [
    "print(f\"There are {df[df['visitors'].isna()].shape[0]} missing values.\")"
   ]
  },
  {
   "cell_type": "markdown",
   "metadata": {},
   "source": [
    "Compute the average number of `visitors` grouped by `hour`. The mean value of a column is not influenced by the NaN values.  \n",
    "Reference: [groupby](https://pandas.pydata.org/pandas-docs/stable/reference/api/pandas.DataFrame.groupby.html)."
   ]
  },
  {
   "cell_type": "code",
   "execution_count": 78,
   "metadata": {},
   "outputs": [],
   "source": [
    "hour_df = df.groupby(['hour']).mean()['visitors']"
   ]
  },
  {
   "cell_type": "markdown",
   "metadata": {},
   "source": [
    "Impute the missing `visitors` data by substituting the missing values with the rounded average number of visitors for the specific hour (using the numbers from the previous step).  \n",
    "Note: imputation using mean values is often suboptimal. It does account for uncertainty of the measurements, does not factor the correlations between features, and does not work for categorical features. At the same time it is very easy and fast to implement, and works well with small data sets containing numerical data (like ours).  \n",
    "There are not that many missing values in our data set (around 1%). We are also respecting the fact, that, for example, the number of visitors will be lower at night than during the day by taking the mean over the values for a specific hour of the day and not over the entire data set. Hence, the risk to introduce bias is low.  \n",
    "Please refer to external literature if you would like to learn about other imputation methods.  \n",
    "Reference: [where](https://docs.scipy.org/doc/numpy/reference/generated/numpy.where.html), [assign](https://pandas.pydata.org/pandas-docs/stable/reference/api/pandas.DataFrame.assign.html)."
   ]
  },
  {
   "cell_type": "code",
   "execution_count": 79,
   "metadata": {},
   "outputs": [],
   "source": [
    "imputed_visitors = np.where(df.loc[:, 'visitors'].isna(), round(hour_df[df['hour']]), df['visitors'])\n",
    "df = df.assign(visitors=imputed_visitors.astype(int))"
   ]
  },
  {
   "cell_type": "markdown",
   "metadata": {},
   "source": [
    "Are there missing values for the `clouds` feature? If yes, how many?  \n",
    "Reference: [isna](https://pandas.pydata.org/pandas-docs/stable/reference/api/pandas.Series.isna.html)."
   ]
  },
  {
   "cell_type": "code",
   "execution_count": 80,
   "metadata": {},
   "outputs": [
    {
     "name": "stdout",
     "output_type": "stream",
     "text": [
      "There are 0 missing values.\n"
     ]
    }
   ],
   "source": [
    "print(f\"There are {df[df['clouds'].isna()].shape[0]} missing values.\")"
   ]
  },
  {
   "cell_type": "markdown",
   "metadata": {},
   "source": [
    "Now that we removed/imputed the missing values, we can focus on determining the expected hourly number of visitors.  \n",
    "First we need to determine which feature correlates with our target feature `visitors` the most.  \n",
    "Display the correlations between `temperature`/`clouds`/`hour` and `visitors`. Which feature has the strongest correlation with `visitors`?  \n",
    "Reference: [corr](https://pandas.pydata.org/pandas-docs/stable/reference/api/pandas.Series.corr.html)."
   ]
  },
  {
   "cell_type": "code",
   "execution_count": 81,
   "metadata": {},
   "outputs": [
    {
     "name": "stdout",
     "output_type": "stream",
     "text": [
      "Correlation between temperature and visitors: 0.18\n",
      "Correlation between clouds and visitors: 0.04\n",
      "Correlation between hour and visitors: 0.8\n",
      "hour has the highest correlation coefficient.\n"
     ]
    }
   ],
   "source": [
    "print('Correlation between temperature and visitors:', round(df['temperature'].corr(df['visitors']), 2))\n",
    "print('Correlation between clouds and visitors:', round(df['clouds'].corr(df['visitors']), 2))\n",
    "print('Correlation between hour and visitors:', round(df['hour'].corr(df['visitors']), 2))\n",
    "print('hour has the highest correlation coefficient.')"
   ]
  },
  {
   "cell_type": "markdown",
   "metadata": {},
   "source": [
    "Plot `visitors` against `hour`.  \n",
    "Reference: [lineplot](https://seaborn.pydata.org/generated/seaborn.lineplot.html)."
   ]
  },
  {
   "cell_type": "code",
   "execution_count": 82,
   "metadata": {},
   "outputs": [
    {
     "data": {
      "image/png": "[encoded data removed]",
      "text/plain": [
       "<Figure size 432x288 with 1 Axes>"
      ]
     },
     "metadata": {
      "image/png": {
       "height": 277,
       "width": 395
      },
      "needs_background": "light"
     },
     "output_type": "display_data"
    }
   ],
   "source": [
    "sns.lineplot(df['hour'], df['visitors'], linewidth=.9, color='k')\n",
    "plt.title('Visitors over time')\n",
    "plt.show()"
   ]
  },
  {
   "cell_type": "markdown",
   "metadata": {},
   "source": [
    "When is the usual number of visitors the highest? The lowest?  \n",
    "Do you find the results surprising? Can you explain them?  \n",
    "Reference: [idxmax](https://pandas.pydata.org/pandas-docs/stable/reference/api/pandas.Series.idxmax.html), [idxmin](https://pandas.pydata.org/pandas-docs/stable/reference/api/pandas.Series.idxmin.html)."
   ]
  },
  {
   "cell_type": "code",
   "execution_count": 83,
   "metadata": {},
   "outputs": [
    {
     "name": "stdout",
     "output_type": "stream",
     "text": [
      "There is usually the most visitors at 19 o'clock and the least at 3 o'clock.\n"
     ]
    }
   ],
   "source": [
    "print(f\"There is usually the most visitors at {hour_df.idxmax()} o'clock and the least at {hour_df.idxmin()} o'clock.\")"
   ]
  },
  {
   "cell_type": "markdown",
   "metadata": {},
   "source": [
    "Now to the last step. Since we have concluded that `temperature` correlates strongly with `visitors`, we will use it to compute the expected number of hourly `visitors`.  \n",
    "There are, of course, multiple methods we could use to predict the number of visitors (SVMs, neural networks, etc.). Since this exercise is focused on giving you a basic idea of data preparation and analysis, we will stick with arguably the simplest of them - the good old regression.  \n",
    "For this task we will use polynomial regression. Also, for simplicity purposes we will not split the historical data into a training and a test set (which some may consider a crime). We still advise you to read about over-/under-fitting of models and the evaluation of prediction methods to gain a better understanding of why these concepts are important. [This post](https://towardsdatascience.com/train-test-split-and-cross-validation-in-python-80b61beca4b6) explains the concepts in simple terms, please give it a look.  \n",
    "Alright, back to the task..."
   ]
  },
  {
   "cell_type": "markdown",
   "metadata": {},
   "source": [
    "Use `scikit-learn` to create a third order polynomial regression model, to train it, and to predict the hourly number of visitors. Once again, the selection of the order of the polynomial is not trivial. The 'best' degree (the one that produces the most accurate model while avoiding over-fitting) can be determined using a training and a test set. We will stick to the 3rd degree for this task.  \n",
    "Reference: [PolynomialFeatures](https://scikit-learn.org/stable/modules/generated/sklearn.preprocessing.PolynomialFeatures.html), [LinearRegression](https://scikit-learn.org/stable/modules/generated/sklearn.linear_model.LinearRegression.html), [reshape](https://docs.scipy.org/doc/numpy/reference/generated/numpy.ndarray.reshape.html)."
   ]
  },
  {
   "cell_type": "code",
   "execution_count": 84,
   "metadata": {
    "scrolled": true
   },
   "outputs": [],
   "source": [
    "poly_features = PolynomialFeatures(3)\n",
    "lin_reg = LinearRegression()\n",
    "hour_poly = poly_features.fit_transform(np.array(df['hour'].values).reshape(-1, 1))\n",
    "lin_reg.fit(hour_poly, df['visitors'])\n",
    "visitors_pred = lin_reg.predict(poly_features.fit_transform(np.array(hour_df.index).reshape(-1, 1)))"
   ]
  },
  {
   "cell_type": "markdown",
   "metadata": {},
   "source": [
    "Finally, plot the best fit of the polynomial regression over the historical data.  \n",
    "Reference: [lineplot](https://seaborn.pydata.org/generated/seaborn.lineplot.html)."
   ]
  },
  {
   "cell_type": "code",
   "execution_count": 85,
   "metadata": {
    "scrolled": true
   },
   "outputs": [
    {
     "data": {
      "image/png": "[encoded data removed]",
      "text/plain": [
       "<Figure size 432x288 with 1 Axes>"
      ]
     },
     "metadata": {
      "image/png": {
       "height": 261,
       "width": 395
      },
      "needs_background": "light"
     },
     "output_type": "display_data"
    }
   ],
   "source": [
    "sns.lineplot(df['hour'], df['visitors'], color='k', label='Historical', linewidth=.9)\n",
    "sns.lineplot(hour_df.index, visitors_pred, color=\"r\", label='Prediction')\n",
    "plt.show()"
   ]
  },
  {
   "cell_type": "markdown",
   "metadata": {},
   "source": [
    "What is the $R^2$ of your model? Are you content with the result?  \n",
    "Reference: [score](https://scikit-learn.org/stable/modules/generated/sklearn.linear_model.LinearRegression.html#sklearn.linear_model.LinearRegression.score)."
   ]
  },
  {
   "cell_type": "code",
   "execution_count": 86,
   "metadata": {},
   "outputs": [
    {
     "name": "stdout",
     "output_type": "stream",
     "text": [
      "R^2 for the third order polynomial regression is 0.7857\n"
     ]
    }
   ],
   "source": [
    "print('R^2 for the third order polynomial regression is', round(lin_reg.score(hour_poly, df['visitors']), 4))"
   ]
  },
  {
   "cell_type": "markdown",
   "metadata": {},
   "source": [
    "#### Congratulations! You are done with the task!"
   ]
  },
  {
   "cell_type": "markdown",
   "metadata": {},
   "source": [
    "Now you can use the expected hourly number of visitors as an input for your mathematical optimization models (which is outside of the scope of this introductory exercise)."
   ]
  },
  {
   "cell_type": "markdown",
   "metadata": {},
   "source": [
    "This is the end of this introduction to Python libraries for data analysis.  \n",
    "All of the libraries have way more to offer than was presented in this notebook. We hope that you found this set of exercises interesting enough for you to continue exploring scientific programming with Python on your own.  \n",
    "Please feel free to ask us any questions!"
   ]
  }
 ],
 "metadata": {
  "kernelspec": {
   "display_name": "Python 3",
   "language": "python",
   "name": "python3"
  },
  "language_info": {
   "codemirror_mode": {
    "name": "ipython",
    "version": 3
   },
   "file_extension": ".py",
   "mimetype": "text/x-python",
   "name": "python",
   "nbconvert_exporter": "python",
   "pygments_lexer": "ipython3",
   "version": "3.7.7"
  }
 },
 "nbformat": 4,
 "nbformat_minor": 4
}
