{
 "metadata": {
  "language_info": {
   "codemirror_mode": {
    "name": "ipython",
    "version": 3
   },
   "file_extension": ".py",
   "mimetype": "text/x-python",
   "name": "python",
   "nbconvert_exporter": "python",
   "pygments_lexer": "ipython3",
   "version": "3.8.5"
  },
  "orig_nbformat": 2,
  "kernelspec": {
   "name": "python385jvsc74a57bd0729c69a4684e8a65c2caa3ee004518027c93c29c3ae5e222a8933f5bf005cb71",
   "display_name": "Python 3.8.5 64-bit ('base': conda)"
  }
 },
 "nbformat": 4,
 "nbformat_minor": 2,
 "cells": [
  {
   "cell_type": "code",
   "execution_count": 1,
   "metadata": {},
   "outputs": [],
   "source": [
    "from gurobipy import *\n",
    "import csv\n",
    "import math\n",
    "import re\n",
    "import pandas as pd"
   ]
  },
  {
   "cell_type": "code",
   "execution_count": 2,
   "metadata": {},
   "outputs": [],
   "source": [
    "def data_load(fileName):\n",
    "    dataFrame = []\n",
    "    df_temp = pd.DataFrame\n",
    "\n",
    "    with open(fileName, \"r\") as file:\n",
    "        for line in file:\n",
    "            if re.match(\"#\",line) != None:\n",
    "                #\n",
    "                if df_temp.empty == False:\n",
    "                    dataFrame.append(df_temp)\n",
    "                    print(df_temp)\n",
    "                    #  del df_temp\n",
    "                str = line.split(\": \")[1].replace(',\\n', '')\n",
    "                df_temp = pd.DataFrame(columns = str.split(\", \"))\n",
    "            else:\n",
    "                line = line.replace(',\\n', '')\n",
    "                val = line.split(\", \")\n",
    "                df_temp_length = len(df_temp)\n",
    "                df_temp.loc[df_temp_length] = val\n",
    "        dataFrame.append(df_temp)\n",
    "\n",
    "    for i in range(len(dataFrame)):\n",
    "        dataFrame[i] = dataFrame[i].set_index('loc_id', drop=True)\n",
    "        # print(dataFrame[i])\n",
    "\n",
    "    df_hospitals = dataFrame[0]\n",
    "    df_existing_hospitals = dataFrame[1]\n",
    "    df_cities = dataFrame[2]\n",
    "    df_cities_minimum = dataFrame[3]\n",
    "\n",
    "    return df_hospitals, df_existing_hospitals, df_cities, df_cities_minimum\n"
   ]
  },
  {
   "cell_type": "code",
   "execution_count": 3,
   "metadata": {},
   "outputs": [
    {
     "output_type": "stream",
     "name": "stdout",
     "text": [
      "  loc_id x_coord y_coord costk1 costk2 costk3 capk1 capk2 capk3\n0     h1       0      10    100    200    300     1     2     3\n1     h2      10      10    -10      0    150     1     3     4\n2     h3       0      40     50    250    300     1     2     3\n3     h4      40      10    180    200    480     2     2     3\n4     h5      20      20    200    300    400     1     2     3\n  loc_id closing_income\n0     h2            100\n  loc_id x_coord y_coord\n0     c1       5       5\n1     c2      25      10\n2     c3      10      15\n3     c4       5      20\n4     c5       5      25\n5     c6      40      20\n6     c7      30      30\n7     c8      65      10\n"
     ]
    }
   ],
   "source": [
    "df_hospitals, df_existing_hospitals, df_cities, df_cities_minimum = data_load('data1.csv')"
   ]
  },
  {
   "cell_type": "code",
   "execution_count": 4,
   "metadata": {},
   "outputs": [
    {
     "output_type": "execute_result",
     "data": {
      "text/plain": [
       "       x_coord y_coord costk1 costk2 costk3 capk1 capk2 capk3\n",
       "loc_id                                                       \n",
       "h1           0      10    100    200    300     1     2     3\n",
       "h2          10      10    -10      0    150     1     3     4\n",
       "h3           0      40     50    250    300     1     2     3\n",
       "h4          40      10    180    200    480     2     2     3\n",
       "h5          20      20    200    300    400     1     2     3"
      ],
      "text/html": "<div>\n<style scoped>\n    .dataframe tbody tr th:only-of-type {\n        vertical-align: middle;\n    }\n\n    .dataframe tbody tr th {\n        vertical-align: top;\n    }\n\n    .dataframe thead th {\n        text-align: right;\n    }\n</style>\n<table border=\"1\" class=\"dataframe\">\n  <thead>\n    <tr style=\"text-align: right;\">\n      <th></th>\n      <th>x_coord</th>\n      <th>y_coord</th>\n      <th>costk1</th>\n      <th>costk2</th>\n      <th>costk3</th>\n      <th>capk1</th>\n      <th>capk2</th>\n      <th>capk3</th>\n    </tr>\n    <tr>\n      <th>loc_id</th>\n      <th></th>\n      <th></th>\n      <th></th>\n      <th></th>\n      <th></th>\n      <th></th>\n      <th></th>\n      <th></th>\n    </tr>\n  </thead>\n  <tbody>\n    <tr>\n      <th>h1</th>\n      <td>0</td>\n      <td>10</td>\n      <td>100</td>\n      <td>200</td>\n      <td>300</td>\n      <td>1</td>\n      <td>2</td>\n      <td>3</td>\n    </tr>\n    <tr>\n      <th>h2</th>\n      <td>10</td>\n      <td>10</td>\n      <td>-10</td>\n      <td>0</td>\n      <td>150</td>\n      <td>1</td>\n      <td>3</td>\n      <td>4</td>\n    </tr>\n    <tr>\n      <th>h3</th>\n      <td>0</td>\n      <td>40</td>\n      <td>50</td>\n      <td>250</td>\n      <td>300</td>\n      <td>1</td>\n      <td>2</td>\n      <td>3</td>\n    </tr>\n    <tr>\n      <th>h4</th>\n      <td>40</td>\n      <td>10</td>\n      <td>180</td>\n      <td>200</td>\n      <td>480</td>\n      <td>2</td>\n      <td>2</td>\n      <td>3</td>\n    </tr>\n    <tr>\n      <th>h5</th>\n      <td>20</td>\n      <td>20</td>\n      <td>200</td>\n      <td>300</td>\n      <td>400</td>\n      <td>1</td>\n      <td>2</td>\n      <td>3</td>\n    </tr>\n  </tbody>\n</table>\n</div>"
     },
     "metadata": {},
     "execution_count": 4
    }
   ],
   "source": [
    "df_hospitals"
   ]
  },
  {
   "cell_type": "code",
   "execution_count": 5,
   "metadata": {},
   "outputs": [
    {
     "output_type": "execute_result",
     "data": {
      "text/plain": [
       "       closing_income\n",
       "loc_id               \n",
       "h2                100"
      ],
      "text/html": "<div>\n<style scoped>\n    .dataframe tbody tr th:only-of-type {\n        vertical-align: middle;\n    }\n\n    .dataframe tbody tr th {\n        vertical-align: top;\n    }\n\n    .dataframe thead th {\n        text-align: right;\n    }\n</style>\n<table border=\"1\" class=\"dataframe\">\n  <thead>\n    <tr style=\"text-align: right;\">\n      <th></th>\n      <th>closing_income</th>\n    </tr>\n    <tr>\n      <th>loc_id</th>\n      <th></th>\n    </tr>\n  </thead>\n  <tbody>\n    <tr>\n      <th>h2</th>\n      <td>100</td>\n    </tr>\n  </tbody>\n</table>\n</div>"
     },
     "metadata": {},
     "execution_count": 5
    }
   ],
   "source": [
    "df_existing_hospitals"
   ]
  },
  {
   "cell_type": "code",
   "execution_count": 6,
   "metadata": {},
   "outputs": [
    {
     "output_type": "execute_result",
     "data": {
      "text/plain": [
       "       x_coord y_coord\n",
       "loc_id                \n",
       "c1           5       5\n",
       "c2          25      10\n",
       "c3          10      15\n",
       "c4           5      20\n",
       "c5           5      25\n",
       "c6          40      20\n",
       "c7          30      30\n",
       "c8          65      10"
      ],
      "text/html": "<div>\n<style scoped>\n    .dataframe tbody tr th:only-of-type {\n        vertical-align: middle;\n    }\n\n    .dataframe tbody tr th {\n        vertical-align: top;\n    }\n\n    .dataframe thead th {\n        text-align: right;\n    }\n</style>\n<table border=\"1\" class=\"dataframe\">\n  <thead>\n    <tr style=\"text-align: right;\">\n      <th></th>\n      <th>x_coord</th>\n      <th>y_coord</th>\n    </tr>\n    <tr>\n      <th>loc_id</th>\n      <th></th>\n      <th></th>\n    </tr>\n  </thead>\n  <tbody>\n    <tr>\n      <th>c1</th>\n      <td>5</td>\n      <td>5</td>\n    </tr>\n    <tr>\n      <th>c2</th>\n      <td>25</td>\n      <td>10</td>\n    </tr>\n    <tr>\n      <th>c3</th>\n      <td>10</td>\n      <td>15</td>\n    </tr>\n    <tr>\n      <th>c4</th>\n      <td>5</td>\n      <td>20</td>\n    </tr>\n    <tr>\n      <th>c5</th>\n      <td>5</td>\n      <td>25</td>\n    </tr>\n    <tr>\n      <th>c6</th>\n      <td>40</td>\n      <td>20</td>\n    </tr>\n    <tr>\n      <th>c7</th>\n      <td>30</td>\n      <td>30</td>\n    </tr>\n    <tr>\n      <th>c8</th>\n      <td>65</td>\n      <td>10</td>\n    </tr>\n  </tbody>\n</table>\n</div>"
     },
     "metadata": {},
     "execution_count": 6
    }
   ],
   "source": [
    "df_cities"
   ]
  },
  {
   "cell_type": "code",
   "execution_count": 7,
   "metadata": {},
   "outputs": [
    {
     "output_type": "execute_result",
     "data": {
      "text/plain": [
       "Empty DataFrame\n",
       "Columns: []\n",
       "Index: [c1, c3, c6]"
      ],
      "text/html": "<div>\n<style scoped>\n    .dataframe tbody tr th:only-of-type {\n        vertical-align: middle;\n    }\n\n    .dataframe tbody tr th {\n        vertical-align: top;\n    }\n\n    .dataframe thead th {\n        text-align: right;\n    }\n</style>\n<table border=\"1\" class=\"dataframe\">\n  <thead>\n    <tr style=\"text-align: right;\">\n      <th></th>\n    </tr>\n    <tr>\n      <th>loc_id</th>\n    </tr>\n  </thead>\n  <tbody>\n    <tr>\n      <th>c1</th>\n    </tr>\n    <tr>\n      <th>c3</th>\n    </tr>\n    <tr>\n      <th>c6</th>\n    </tr>\n  </tbody>\n</table>\n</div>"
     },
     "metadata": {},
     "execution_count": 7
    }
   ],
   "source": [
    "df_cities_minimum"
   ]
  },
  {
   "cell_type": "code",
   "execution_count": 8,
   "metadata": {},
   "outputs": [],
   "source": [
    "def euclidean_distance(x1,y1,x2,y2):\n",
    "    return math.sqrt((int(x1) - int(x2))**2 + (int(y1) - int(y2))**2)"
   ]
  },
  {
   "cell_type": "code",
   "execution_count": 9,
   "metadata": {},
   "outputs": [],
   "source": [
    "def check_dist(df_hospitals, df_cities):\n",
    "    id_pairs = []\n",
    "    hospitals = df_hospitals.index.to_list() # J\n",
    "    cities = df_cities.index.to_list() # I\n",
    "    for i in cities:\n",
    "        for j in hospitals:\n",
    "            x_1, y_1 = df_hospitals.loc[j]['x_coord'], df_hospitals.loc[j]['y_coord']\n",
    "            x_2, y_2 = df_cities.loc[i]['x_coord'], df_cities.loc[i]['y_coord']\n",
    "            dist = euclidean_distance(x_1, y_1, x_2, y_2)\n",
    "            if dist <= 30:\n",
    "                id_pairs.append((j , i))\n",
    "    return id_pairs\n"
   ]
  },
  {
   "cell_type": "code",
   "execution_count": 10,
   "metadata": {},
   "outputs": [],
   "source": [
    "id_pairs = check_dist(df_hospitals, df_cities)"
   ]
  },
  {
   "cell_type": "code",
   "execution_count": 17,
   "metadata": {},
   "outputs": [],
   "source": [
    "def solve(full_path_instance):\n",
    "    df_hospitals, df_existing_hospitals, df_cities, df_cities_minimum = data_load(full_path_instance)\n",
    "    \n",
    "    #check reasonable distance\n",
    "    id_pairs = check_dist(df_hospitals, df_cities)\n",
    "\n",
    "    df_hospitals_cost = df_hospitals[['costk1', 'costk2', 'costk3']]\n",
    "    df_hospitals_cap = df_hospitals[['capk1', 'capk2', 'capk3']]\n",
    "\n",
    "    hospitals = df_hospitals.index.to_list() # J\n",
    "    cities = df_cities.index.to_list() # I\n",
    "\n",
    "    existing_hospitals = df_existing_hospitals.index.to_list() # J_2\n",
    "\n",
    "    #type >= 2 cities\n",
    "    cities_minimum = df_cities_minimum.index.to_list() # I_2\n",
    "\n",
    "    types_hospitals = range(3)\n",
    "\n",
    "    ############################################################################################\n",
    "    model = Model(\"Hospitalnetwork\")\n",
    "\n",
    "    model.modelSense = GRB.MINIMIZE\n",
    "\n",
    "    # whether hospital j for city i is used (value = 1) or not (value = 0).\n",
    "    x = {}\n",
    "    # for j in hospitals:\n",
    "    #     for i in cities:\n",
    "    #         x[j, i] = model.addVar(name=\"x_%s_%s\" % (j, i), vtype=GRB.BINARY)\n",
    "    for (j,i) in id_pairs:\n",
    "        x[j, i] = model.addVar(name=\"x_%s_%s\" % (j, i), vtype=GRB.BINARY)\n",
    "\n",
    "\n",
    "    # which type k of hospital j in {1,2,3} is used (value = 1) or not (value = 0).\n",
    "    y = {}\n",
    "    # for j , _ in id_pairs:\n",
    "    for j in hospitals:\n",
    "        for k in range(3):\n",
    "            y[j, k] = model.addVar(name=\"t_%s_%s\" % (j, k), vtype=GRB.BINARY)\n",
    "\n",
    "    \n",
    "    # Maximum Cost C\n",
    "    # C_max = model.addVar(vtype=GRB.CONTINUOUS)\n",
    "\n",
    "    # model.setObjective(\n",
    "    #     , GRB.MINIMIZE\n",
    "    # )\n",
    "\n",
    "\n",
    "    ############################################################################################\n",
    "    print(id_pairs)\n",
    "    #each city only have exactly one hospital\n",
    "    # for j in hospitals:\n",
    "    # for i in cities:\n",
    "            # if (j , i) in id_pairs:\n",
    "    for _, i in id_pairs:\n",
    "        model.addConstr(quicksum(x[j,i] for j, city in id_pairs if city == i))\n",
    "\n",
    "    # for j in hospitals:\n",
    "    #     for i in cities:\n",
    "\n",
    "    #build realtion between x and y\n",
    "    for (j,i) in id_pairs:\n",
    "            model.addConstr(x[j,i] <= quicksum(y[j,k] for k in types_hospitals) )\n",
    "\n",
    "    #if use hospital j\n",
    "    # for j , _ in id_pairs:\n",
    "    for j in hospitals:\n",
    "        model.addConstr( quicksum(y[j,k] for k in types_hospitals) <= 1)\n",
    "\n",
    "    #type 1, 2: city access to a hospital within 20 km, type 3: within 30 km\n",
    "    for (j,i) in id_pairs:\n",
    "        model.addConstr(euclidean_distance(df_hospitals.loc[j]['x_coord'], df_hospitals.loc[j]['y_coord'],\n",
    "                                            df_cities.loc[i]['x_coord'], df_cities.loc[i]['y_coord']) *\n",
    "                        x[j,i] * y[j,0] <= 20)\n",
    "        model.addConstr(euclidean_distance(df_hospitals.loc[j]['x_coord'], df_hospitals.loc[j]['y_coord'],\n",
    "                                            df_cities.loc[i]['x_coord'], df_cities.loc[i]['y_coord']) *\n",
    "                        x[j,i] * y[j,1] <= 20)\n",
    "        model.addConstr(euclidean_distance(df_hospitals.loc[j]['x_coord'], df_hospitals.loc[j]['y_coord'],\n",
    "                                            df_cities.loc[i]['x_coord'], df_cities.loc[i]['y_coord']) *\n",
    "                        x[j,i] * y[j,2] <= 30)\n",
    "\n",
    "    #some cities type >= 2:\n",
    "    for i in cities_minimum:\n",
    "        model.addConstr(quicksum(x[j,i] * quicksum(y[j,k] for k in [1,2]) for j ,city in id_pairs if city == i) == 1)\n",
    "\n",
    "    # for i in cities_minimum:\n",
    "    #     model.addConstr(quicksum(x[j,i] * y[j,0] for j in hospitals) == 0)\n",
    "\n",
    "    # for j in hospitals:\n",
    "    #     for k in types_hospitals:\n",
    "\n",
    "    #hospital to city capacity\n",
    "    for j in hospitals:\n",
    "        for i in cities:\n",
    "            if (j,i) in id_pairs:\n",
    "                model.addConstr(quicksum(x[j,i] * y[j,k] for (j,i) in id_pairs for k in types_hospitals) <= int(df_hospitals_cap.loc[j][k]))\n",
    "\n",
    "    #obj\n",
    "    # s = 0\n",
    "    # for j, i in id_pairs:\n",
    "    #     for k in types_hospitals:\n",
    "    #     s += x[j,i] * y[j,k] * int(df_hospitals_cost.loc[j][k])\n",
    "    \n",
    "    # t = 0\n",
    "    # for j in existing_hospitals:\n",
    "    #     temp = 0\n",
    "    #     for k in types_hospitals:\n",
    "    #         temp += y[j ,k]\n",
    "    #     t += (1 - temp) * df_existing_hospitals.loc[j]['closing_income']\n",
    "    \n",
    "    # ans = s - t\n",
    "\n",
    "\n",
    "    model.setObjective(\n",
    "    quicksum(\n",
    "        y[j,k] * int(df_hospitals_cost.loc[j][k]) \n",
    "        for j, _ in id_pairs \n",
    "        for k in types_hospitals\n",
    "        )\n",
    "    -\n",
    "    quicksum( \n",
    "        ( \n",
    "            quicksum( (1 - y[j,k]) for k in types_hospitals)) * df_existing_hospitals.loc[j]['closing_income']  \n",
    "            for j in existing_hospitals )\n",
    "    )\n",
    "            \n",
    "    # model.addConstr(quicksum(x[j,i] * y[j,k] * int(df_hospitals_cost.loc[j][k]) for i in cities for j in hospitals for k in types_hospitals) -\n",
    "    #                 quicksum(  (1 - quicksum(y[j,k] for k in types_hospitals) * int(df_existing_hospitals.loc[j]['closing_income']) for j in existing_hospitals) <= C_max)\n",
    "\n",
    "    ############################################################################################\n",
    "    model.update()\n",
    "    model.optimize()\n",
    "\n",
    "    def printSolution():\n",
    "        if model.status == GRB.OPTIMAL:\n",
    "            print('\\n objective: %g\\n' % model.ObjVal)\n",
    "            print(\"Selected following matching:\")\n",
    "            for j in hospitals:\n",
    "                for i in cities:\n",
    "                    for k in types_hospitals:\n",
    "                        if x[j,i].x == 1 and y[j,k].x == 1:\n",
    "                            print((j,i,k+1,euclidean_distance(df_hospitals.loc[j]['x_coord'], df_hospitals.loc[j]['y_coord'],\n",
    "                                               df_cities.loc[i]['x_coord'], df_cities.loc[i]['y_coord'])))\n",
    "        else:\n",
    "            print(\"No solution!\")\n",
    "\n",
    "    printSolution()\n",
    "\n",
    "    return model"
   ]
  },
  {
   "cell_type": "code",
   "execution_count": 18,
   "metadata": {},
   "outputs": [
    {
     "output_type": "stream",
     "name": "stdout",
     "text": [
      "  loc_id x_coord y_coord costk1 costk2 costk3 capk1 capk2 capk3\n0     h1       0      10    100    200    300     1     2     3\n1     h2      10      10    -10      0    150     1     3     4\n2     h3       0      40     50    250    300     1     2     3\n3     h4      40      10    180    200    480     2     2     3\n4     h5      20      20    200    300    400     1     2     3\n  loc_id closing_income\n0     h2            100\n  loc_id x_coord y_coord\n0     c1       5       5\n1     c2      25      10\n2     c3      10      15\n3     c4       5      20\n4     c5       5      25\n5     c6      40      20\n6     c7      30      30\n7     c8      65      10\n[('h1', 'c1'), ('h2', 'c1'), ('h5', 'c1'), ('h1', 'c2'), ('h2', 'c2'), ('h4', 'c2'), ('h5', 'c2'), ('h1', 'c3'), ('h2', 'c3'), ('h3', 'c3'), ('h5', 'c3'), ('h1', 'c4'), ('h2', 'c4'), ('h3', 'c4'), ('h5', 'c4'), ('h1', 'c5'), ('h2', 'c5'), ('h3', 'c5'), ('h5', 'c5'), ('h4', 'c6'), ('h5', 'c6'), ('h2', 'c7'), ('h4', 'c7'), ('h5', 'c7'), ('h4', 'c8')]\n"
     ]
    },
    {
     "output_type": "error",
     "ename": "TypeError",
     "evalue": "unsupported operand type(s) for *: 'int' and 'NoneType'",
     "traceback": [
      "\u001b[0;31m---------------------------------------------------------------------------\u001b[0m",
      "\u001b[0;31mTypeError\u001b[0m                                 Traceback (most recent call last)",
      "\u001b[0;32m<ipython-input-18-f066defddbc9>\u001b[0m in \u001b[0;36m<module>\u001b[0;34m\u001b[0m\n\u001b[0;32m----> 1\u001b[0;31m \u001b[0msolve\u001b[0m\u001b[0;34m(\u001b[0m\u001b[0;34m'data1.csv'\u001b[0m\u001b[0;34m)\u001b[0m\u001b[0;34m\u001b[0m\u001b[0;34m\u001b[0m\u001b[0m\n\u001b[0m",
      "\u001b[0;32m<ipython-input-17-7c1f692737d6>\u001b[0m in \u001b[0;36msolve\u001b[0;34m(full_path_instance)\u001b[0m\n\u001b[1;32m     55\u001b[0m             \u001b[0;31m# if (j , i) in id_pairs:\u001b[0m\u001b[0;34m\u001b[0m\u001b[0;34m\u001b[0m\u001b[0;34m\u001b[0m\u001b[0m\n\u001b[1;32m     56\u001b[0m     \u001b[0;32mfor\u001b[0m \u001b[0m_\u001b[0m\u001b[0;34m,\u001b[0m \u001b[0mi\u001b[0m \u001b[0;32min\u001b[0m \u001b[0mid_pairs\u001b[0m\u001b[0;34m:\u001b[0m\u001b[0;34m\u001b[0m\u001b[0;34m\u001b[0m\u001b[0m\n\u001b[0;32m---> 57\u001b[0;31m         \u001b[0mmodel\u001b[0m\u001b[0;34m.\u001b[0m\u001b[0maddConstr\u001b[0m\u001b[0;34m(\u001b[0m\u001b[0mquicksum\u001b[0m\u001b[0;34m(\u001b[0m\u001b[0mx\u001b[0m\u001b[0;34m[\u001b[0m\u001b[0mj\u001b[0m\u001b[0;34m,\u001b[0m\u001b[0mi\u001b[0m\u001b[0;34m]\u001b[0m \u001b[0;32mfor\u001b[0m \u001b[0mj\u001b[0m\u001b[0;34m,\u001b[0m \u001b[0mcity\u001b[0m \u001b[0;32min\u001b[0m \u001b[0mid_pairs\u001b[0m \u001b[0;32mif\u001b[0m \u001b[0mcity\u001b[0m \u001b[0;34m==\u001b[0m \u001b[0mi\u001b[0m\u001b[0;34m)\u001b[0m\u001b[0;34m)\u001b[0m\u001b[0;34m\u001b[0m\u001b[0;34m\u001b[0m\u001b[0m\n\u001b[0m\u001b[1;32m     58\u001b[0m \u001b[0;34m\u001b[0m\u001b[0m\n\u001b[1;32m     59\u001b[0m     \u001b[0;31m# for j in hospitals:\u001b[0m\u001b[0;34m\u001b[0m\u001b[0;34m\u001b[0m\u001b[0;34m\u001b[0m\u001b[0m\n",
      "\u001b[0;32msrc/gurobipy/model.pxi\u001b[0m in \u001b[0;36mgurobipy.Model.addConstr\u001b[0;34m()\u001b[0m\n",
      "\u001b[0;32msrc/gurobipy/linexpr.pxi\u001b[0m in \u001b[0;36mgurobipy.LinExpr.__sub__\u001b[0;34m()\u001b[0m\n",
      "\u001b[0;31mTypeError\u001b[0m: unsupported operand type(s) for *: 'int' and 'NoneType'"
     ]
    }
   ],
   "source": [
    "solve('data1.csv')"
   ]
  }
 ]
}