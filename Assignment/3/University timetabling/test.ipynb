{
 "cells": [
  {
   "cell_type": "code",
   "execution_count": 56,
   "metadata": {
    "collapsed": true
   },
   "outputs": [],
   "source": [
    "from gurobipy import *\n",
    "import networkx as nx\n",
    "import math\n",
    "import re\n",
    "import pandas as pd"
   ]
  },
  {
   "cell_type": "code",
   "execution_count": 57,
   "metadata": {},
   "outputs": [],
   "source": [
    "def data_load(fileName):\n",
    "    listSet = []\n",
    "    list_temp = []\n",
    "    start_flag = False\n",
    "    with open(fileName, \"r\") as file:\n",
    "        for line in file:\n",
    "            if line.find('Days') > -1:\n",
    "                days = int(line.split(\":\")[1])\n",
    "            if line.find('Periods_per_day') > -1:\n",
    "                periods = int(line.split(\":\")[1])\n",
    "            if line.strip() == \"\":\n",
    "                if list_temp:\n",
    "                    listSet.append(list_temp.copy())\n",
    "                    # print(list_temp)\n",
    "                    list_temp.clear()\n",
    "                start_flag = True;\n",
    "                continue\n",
    "            if start_flag == True:\n",
    "                if line.find(\":\") > -1:\n",
    "                    continue\n",
    "                else:\n",
    "                    list_temp.append(line.split())\n",
    "\n",
    "    df_courses = pd.DataFrame(listSet[0], columns=['courseID','teacher','countOfLectures','minWorkingDays','countOfStudents'])\n",
    "    df_courses = df_courses.set_index('courseID', drop=True)\n",
    "    df_rooms = pd.DataFrame(listSet[1], columns=['roomID', 'capacity'])\n",
    "    df_rooms = df_rooms.set_index('roomID', drop=True)\n",
    "    dict_curricula = {}\n",
    "    df_unavailability_constraints = pd.DataFrame(listSet[3], columns=['courseID','day','dayPeriod'])\n",
    "    df_unavailability_constraints = df_unavailability_constraints.set_index('courseID', drop=True)\n",
    "\n",
    "    dict_temp = {}\n",
    "    for item in listSet[2]:\n",
    "        for i in range(len(item)):\n",
    "            if i == 1:\n",
    "                dict_temp['count'] = item[i]\n",
    "            if i == 2:\n",
    "                dict_temp['members'] = item[i:]\n",
    "        dict_curricula[item[0]] = dict_temp.copy()\n",
    "        dict_temp.clear()\n",
    "\n",
    "    return df_courses, df_rooms, dict_curricula, df_unavailability_constraints, days, periods"
   ]
  },
  {
   "cell_type": "code",
   "execution_count": 65,
   "metadata": {},
   "outputs": [
    {
     "ename": "TypeError",
     "evalue": "cannot convert the series to <class 'int'>",
     "output_type": "error",
     "traceback": [
      "\u001b[0;31m---------------------------------------------------------------------------\u001b[0m",
      "\u001b[0;31mTypeError\u001b[0m                                 Traceback (most recent call last)",
      "\u001b[0;32m<ipython-input-65-cd1e19b76ef9>\u001b[0m in \u001b[0;36m<module>\u001b[0;34m\u001b[0m\n\u001b[1;32m     33\u001b[0m     \u001b[0mset_temp\u001b[0m\u001b[0;34m.\u001b[0m\u001b[0mclear\u001b[0m\u001b[0;34m(\u001b[0m\u001b[0;34m)\u001b[0m\u001b[0;34m\u001b[0m\u001b[0m\n\u001b[1;32m     34\u001b[0m \u001b[0;34m\u001b[0m\u001b[0m\n\u001b[0;32m---> 35\u001b[0;31m \u001b[0mdf_courses\u001b[0m\u001b[0;34m[\u001b[0m\u001b[0mint\u001b[0m\u001b[0;34m(\u001b[0m\u001b[0mdf_courses\u001b[0m\u001b[0;34m[\u001b[0m\u001b[0;34m'countOfStudents'\u001b[0m\u001b[0;34m]\u001b[0m\u001b[0;34m)\u001b[0m \u001b[0;34m<=\u001b[0m \u001b[0;36m42\u001b[0m\u001b[0;34m]\u001b[0m\u001b[0;34m\u001b[0m\u001b[0m\n\u001b[0m\u001b[1;32m     36\u001b[0m \u001b[0;31m# rooms_courses_pairs\u001b[0m\u001b[0;34m\u001b[0m\u001b[0;34m\u001b[0m\u001b[0m\n",
      "\u001b[0;32m~/anaconda3/lib/python3.7/site-packages/pandas/core/series.py\u001b[0m in \u001b[0;36mwrapper\u001b[0;34m(self)\u001b[0m\n\u001b[1;32m    139\u001b[0m         \u001b[0;32mif\u001b[0m \u001b[0mlen\u001b[0m\u001b[0;34m(\u001b[0m\u001b[0mself\u001b[0m\u001b[0;34m)\u001b[0m \u001b[0;34m==\u001b[0m \u001b[0;36m1\u001b[0m\u001b[0;34m:\u001b[0m\u001b[0;34m\u001b[0m\u001b[0m\n\u001b[1;32m    140\u001b[0m             \u001b[0;32mreturn\u001b[0m \u001b[0mconverter\u001b[0m\u001b[0;34m(\u001b[0m\u001b[0mself\u001b[0m\u001b[0;34m.\u001b[0m\u001b[0miloc\u001b[0m\u001b[0;34m[\u001b[0m\u001b[0;36m0\u001b[0m\u001b[0;34m]\u001b[0m\u001b[0;34m)\u001b[0m\u001b[0;34m\u001b[0m\u001b[0m\n\u001b[0;32m--> 141\u001b[0;31m         \u001b[0;32mraise\u001b[0m \u001b[0mTypeError\u001b[0m\u001b[0;34m(\u001b[0m\u001b[0;34mf\"cannot convert the series to {converter}\"\u001b[0m\u001b[0;34m)\u001b[0m\u001b[0;34m\u001b[0m\u001b[0m\n\u001b[0m\u001b[1;32m    142\u001b[0m \u001b[0;34m\u001b[0m\u001b[0m\n\u001b[1;32m    143\u001b[0m     \u001b[0mwrapper\u001b[0m\u001b[0;34m.\u001b[0m\u001b[0m__name__\u001b[0m \u001b[0;34m=\u001b[0m \u001b[0;34mf\"__{converter.__name__}__\"\u001b[0m\u001b[0;34m\u001b[0m\u001b[0m\n",
      "\u001b[0;31mTypeError\u001b[0m: cannot convert the series to <class 'int'>"
     ]
    }
   ],
   "source": [
    "df_courses, df_rooms, dict_curricula, df_unavailability_constraints, days, periods = data_load('comp02.ctt')\n",
    "\n",
    "# courses K\n",
    "courses = df_courses.index.to_list()\n",
    "\n",
    "# rooms R\n",
    "rooms = df_rooms.index.to_list()\n",
    "\n",
    "# time_slots T\n",
    "time_slots = []\n",
    "for i in range(days):\n",
    "   for j in range(periods):\n",
    "       time_slots.append((i,j))\n",
    "\n",
    "# courses can be take place in which rooms K_r\n",
    "courses_rooms_pairs = {}\n",
    "set_temp = set()\n",
    "for k in courses:\n",
    "   for r in rooms:\n",
    "       if int(df_courses.loc[k]['countOfStudents']) <= int(df_rooms.loc[r]['capacity']):\n",
    "           set_temp.add(r)\n",
    "   courses_rooms_pairs[k] = set_temp.copy()\n",
    "   set_temp.clear()\n",
    "\n",
    "# for rooms which course can be take place in R_r\n",
    "rooms_courses_pairs = {}\n",
    "set_temp.clear()\n",
    "for r in rooms:\n",
    "    for k in courses:\n",
    "        if int(df_courses.loc[k]['countOfStudents']) <= int(df_rooms.loc[r]['capacity']):\n",
    "            set_temp.add(k)\n",
    "    rooms_courses_pairs[r] = set_temp.copy()\n",
    "    set_temp.clear()\n",
    "\n",
    "df_courses[[countOfStudents]] = df_courses[[countOfStudents]].astype(int)\n",
    "df_courses[df_courses['countOfStudents'] <= 42]\n",
    "# rooms_courses_pairs"
   ]
  },
  {
   "cell_type": "code",
   "execution_count": null,
   "metadata": {},
   "outputs": [],
   "source": []
  },
  {
   "cell_type": "code",
   "execution_count": null,
   "metadata": {},
   "outputs": [],
   "source": []
  }
 ],
 "metadata": {
  "interpreter": {
   "hash": "fcc52514080096f3e7997a25e092e51a2ae638bf5e86c137f16093b2993e9079"
  },
  "kernelspec": {
   "display_name": "Python 3.7.0 64-bit ('base': conda)",
   "name": "python3"
  },
  "language_info": {
   "codemirror_mode": {
    "name": "ipython",
    "version": 3
   },
   "file_extension": ".py",
   "mimetype": "text/x-python",
   "name": "python",
   "nbconvert_exporter": "python",
   "pygments_lexer": "ipython3",
   "version": "3.7.0"
  }
 },
 "nbformat": 4,
 "nbformat_minor": 0
}