{
 "cells": [
  {
   "cell_type": "code",
   "execution_count": 6,
   "metadata": {
    "collapsed": true
   },
   "outputs": [],
   "source": [
    "from gurobipy import *\n",
    "import networkx as nx\n",
    "import math\n",
    "import re\n",
    "import pandas as pd"
   ]
  },
  {
   "cell_type": "code",
   "execution_count": 7,
   "metadata": {},
   "outputs": [],
   "source": [
    "def data_load(fileName):\n",
    "    listSet = []\n",
    "    list_temp = []\n",
    "    start_flag = False\n",
    "    with open(fileName, \"r\") as file:\n",
    "        for line in file:\n",
    "            if line.find('Days') > -1:\n",
    "                days = int(line.split(\":\")[1])\n",
    "            if line.find('Periods_per_day') > -1:\n",
    "                periods = int(line.split(\":\")[1])\n",
    "            if line.strip() == \"\":\n",
    "                if list_temp:\n",
    "                    listSet.append(list_temp.copy())\n",
    "                    # print(list_temp)\n",
    "                    list_temp.clear()\n",
    "                start_flag = True\n",
    "                continue\n",
    "            if start_flag == True:\n",
    "                if line.find(\":\") > -1:\n",
    "                    continue\n",
    "                else:\n",
    "                    list_temp.append(line.split())\n",
    "\n",
    "    df_courses = pd.DataFrame(listSet[0], columns=['courseID','teacher','countOfLectures','minWorkingDays','countOfStudents'])\n",
    "    df_courses = df_courses.set_index('courseID', drop=True)\n",
    "    df_courses[['countOfLectures']] = df_courses[['countOfLectures']].astype(int)\n",
    "    df_courses[['minWorkingDays']] = df_courses[['minWorkingDays']].astype(int)\n",
    "    df_courses[['countOfStudents']] = df_courses[['countOfStudents']].astype(int)\n",
    "\n",
    "    df_rooms = pd.DataFrame(listSet[1], columns=['roomID', 'capacity'])\n",
    "    df_rooms = df_rooms.set_index('roomID', drop=True)\n",
    "    df_rooms[['capacity']] = df_rooms[['capacity']].astype(int)\n",
    "\n",
    "    dict_curricula = {}\n",
    "    df_unavailability_constraints = pd.DataFrame(listSet[3], columns=['courseID','day','dayPeriod'])\n",
    "    df_unavailability_constraints = df_unavailability_constraints.set_index('courseID', drop=True)\n",
    "    df_unavailability_constraints[['day']] = df_unavailability_constraints[['day']].astype(int)\n",
    "    df_unavailability_constraints[['dayPeriod']] = df_unavailability_constraints[['dayPeriod']].astype(int)\n",
    "\n",
    "    dict_temp = {}\n",
    "    for item in listSet[2]:\n",
    "        for i in range(len(item)):\n",
    "            if i == 1:\n",
    "                dict_temp['count'] = int(item[i])\n",
    "            if i == 2:\n",
    "                dict_temp['members'] = item[i:]\n",
    "        dict_curricula[item[0]] = dict_temp.copy()\n",
    "        dict_temp.clear()\n",
    "\n",
    "    return df_courses, df_rooms, dict_curricula, df_unavailability_constraints, days, periods"
   ]
  },
  {
   "cell_type": "code",
   "execution_count": 8,
   "metadata": {},
   "outputs": [],
   "source": [
    "def set2pairSet(init_set):\n",
    "    result_list = []\n",
    "    temp_list = list(init_set)\n",
    "    for i in range(len(temp_list) - 1):\n",
    "        for j in temp_list[i + 1:]:\n",
    "            result_list.append({temp_list[i], j})\n",
    "    return result_list"
   ]
  },
  {
   "cell_type": "code",
   "execution_count": 9,
   "metadata": {},
   "outputs": [
    {
     "data": {
      "text/plain": "{'A', 'B', 'D', 'E', 'F', 'G', 'L'}"
     },
     "execution_count": 9,
     "metadata": {},
     "output_type": "execute_result"
    }
   ],
   "source": [
    "df_courses, df_rooms, dict_curricula, df_unavailability_constraints, days, periods = data_load('comp02.ctt')\n",
    "\n",
    "# courses K\n",
    "courses = df_courses.index.to_list()\n",
    "\n",
    "# rooms R\n",
    "rooms = df_rooms.index.to_list()\n",
    "\n",
    "# curriculas Curriculas\n",
    "curriculas = dict_curricula.keys()\n",
    "\n",
    "# time_slots T\n",
    "time_slots = []\n",
    "for i in range(days):\n",
    "    for j in range(periods):\n",
    "        time_slots.append((i,j))\n",
    "\n",
    "# teachers Teachers\n",
    "teachers = df_courses['teacher'].unique()\n",
    "\n",
    "\n",
    "courses_rooms_pairs = {}\n",
    "temp_set = set()\n",
    "for k in courses:\n",
    "    for r in rooms:\n",
    "        if df_courses.loc[k]['countOfStudents'] <= df_rooms.loc[r]['capacity']:\n",
    "            temp_set.add(r)\n",
    "    courses_rooms_pairs[k] = temp_set.copy()\n",
    "    temp_set.clear()\n",
    "\n",
    "courses_rooms_pairs['c0211']"
   ]
  },
  {
   "cell_type": "code",
   "execution_count": 4,
   "metadata": {},
   "outputs": [],
   "source": []
  }
 ],
 "metadata": {
  "interpreter": {
   "hash": "fcc52514080096f3e7997a25e092e51a2ae638bf5e86c137f16093b2993e9079"
  },
  "kernelspec": {
   "name": "pycharm-9ec7b100",
   "language": "python",
   "display_name": "PyCharm (ML_Ex2)"
  },
  "language_info": {
   "codemirror_mode": {
    "name": "ipython",
    "version": 3
   },
   "file_extension": ".py",
   "mimetype": "text/x-python",
   "name": "python",
   "nbconvert_exporter": "python",
   "pygments_lexer": "ipython3",
   "version": "3.7.0"
  }
 },
 "nbformat": 4,
 "nbformat_minor": 0
}