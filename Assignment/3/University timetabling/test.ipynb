{
 "cells": [
  {
   "cell_type": "code",
   "execution_count": 6,
   "metadata": {
    "collapsed": true
   },
   "outputs": [],
   "source": [
    "from gurobipy import *\n",
    "import networkx as nx\n",
    "import math\n",
    "import re\n",
    "import pandas as pd"
   ]
  },
  {
   "cell_type": "code",
   "execution_count": 7,
   "metadata": {},
   "outputs": [],
   "source": [
    "def data_load(fileName):\n",
    "    listSet = []\n",
    "    list_temp = []\n",
    "    start_flag = False\n",
    "    with open(fileName, \"r\") as file:\n",
    "        for line in file:\n",
    "            if line.find('Days') > -1:\n",
    "                days = int(line.split(\":\")[1])\n",
    "            if line.find('Periods_per_day') > -1:\n",
    "                periods = int(line.split(\":\")[1])\n",
    "            if line.strip() == \"\":\n",
    "                if list_temp:\n",
    "                    listSet.append(list_temp.copy())\n",
    "                    # print(list_temp)\n",
    "                    list_temp.clear()\n",
    "                start_flag = True\n",
    "                continue\n",
    "            if start_flag == True:\n",
    "                if line.find(\":\") > -1:\n",
    "                    continue\n",
    "                else:\n",
    "                    list_temp.append(line.split())\n",
    "\n",
    "    df_courses = pd.DataFrame(listSet[0], columns=['courseID','teacher','countOfLectures','minWorkingDays','countOfStudents'])\n",
    "    df_courses = df_courses.set_index('courseID', drop=True)\n",
    "    df_courses[['countOfLectures']] = df_courses[['countOfLectures']].astype(int)\n",
    "    df_courses[['minWorkingDays']] = df_courses[['minWorkingDays']].astype(int)\n",
    "    df_courses[['countOfStudents']] = df_courses[['countOfStudents']].astype(int)\n",
    "\n",
    "    df_rooms = pd.DataFrame(listSet[1], columns=['roomID', 'capacity'])\n",
    "    df_rooms = df_rooms.set_index('roomID', drop=True)\n",
    "    df_rooms[['capacity']] = df_rooms[['capacity']].astype(int)\n",
    "\n",
    "    dict_curricula = {}\n",
    "    df_unavailability_constraints = pd.DataFrame(listSet[3], columns=['courseID','day','dayPeriod'])\n",
    "    df_unavailability_constraints = df_unavailability_constraints.set_index('courseID', drop=True)\n",
    "    df_unavailability_constraints[['day']] = df_unavailability_constraints[['day']].astype(int)\n",
    "    df_unavailability_constraints[['dayPeriod']] = df_unavailability_constraints[['dayPeriod']].astype(int)\n",
    "\n",
    "    dict_temp = {}\n",
    "    for item in listSet[2]:\n",
    "        for i in range(len(item)):\n",
    "            if i == 1:\n",
    "                dict_temp['count'] = int(item[i])\n",
    "            if i == 2:\n",
    "                dict_temp['members'] = item[i:]\n",
    "        dict_curricula[item[0]] = dict_temp.copy()\n",
    "        dict_temp.clear()\n",
    "\n",
    "    return df_courses, df_rooms, dict_curricula, df_unavailability_constraints, days, periods"
   ]
  },
  {
   "cell_type": "code",
   "execution_count": 8,
   "metadata": {},
   "outputs": [],
   "source": [
    "def set2pairSet(init_set):\n",
    "    result_list = []\n",
    "    temp_list = list(init_set)\n",
    "    for i in range(len(temp_list) - 1):\n",
    "        for j in temp_list[i + 1:]:\n",
    "            result_list.append({temp_list[i], j})\n",
    "    return result_list"
   ]
  },
  {
   "cell_type": "code",
   "execution_count": 9,
   "metadata": {},
   "outputs": [],
   "source": [
    "df_courses, df_rooms, dict_curricula, df_unavailability_constraints, days, periods = data_load('comp02.ctt')\n",
    "\n",
    "# courses K\n",
    "courses = df_courses.index.to_list()\n",
    "\n",
    "# rooms R\n",
    "rooms = df_rooms.index.to_list()\n",
    "\n",
    "# curriculas Curriculas\n",
    "curriculas = dict_curricula.keys()\n",
    "\n",
    "# time_slots T\n",
    "time_slots = []\n",
    "for i in range(days):\n",
    "    for j in range(periods):\n",
    "        time_slots.append((i,j))\n",
    "\n",
    "# teachers Teachers\n",
    "teachers = df_courses['teacher'].unique()\n",
    "\n",
    "\n",
    "courses_curriculas_pair = {}\n",
    "for course in courses:\n",
    "    for curricula in curriculas:\n",
    "        if course in dict_curricula[curricula]['members']:\n",
    "            # temp_list.append(curricula)\n",
    "            if course not in courses_curriculas_pair:\n",
    "                courses_curriculas_pair[course] = [curricula]\n",
    "            else:\n",
    "                courses_curriculas_pair[course].append(curricula)"
   ]
  },
  {
   "cell_type": "code",
   "execution_count": 10,
   "metadata": {
    "pycharm": {
     "name": "#%%\n"
    }
   },
   "outputs": [
    {
     "data": {
      "text/plain": "{'c0131': ['q000', 'q001', 'q002'],\n 'c0211': ['q003'],\n 'c0095': ['q028'],\n 'c0152': ['q000', 'q001', 'q002'],\n 'c0103': ['q029'],\n 'c0111': ['q029'],\n 'c0113': ['q029', 'q030', 'q031'],\n 'c0115': ['q030', 'q031', 'q049', 'q050', 'q051', 'q057', 'q071', 'q072'],\n 'c0119': ['q031'],\n 'c0127': ['q028'],\n 'c0007': ['q005'],\n 'c0015': ['q007'],\n 'c0019': ['q006', 'q007'],\n 'c0020': ['q007'],\n 'c0023': ['q004', 'q005', 'q009'],\n 'c0080': ['q006'],\n 'c0088': ['q006',\n  'q010',\n  'q036',\n  'q037',\n  'q038',\n  'q039',\n  'q040',\n  'q041',\n  'q042',\n  'q043',\n  'q044'],\n 'c0044': ['q012'],\n 'c0110': ['q019', 'q029'],\n 'c0058': ['q013', 'q024'],\n 'c0061': ['q014', 'q015', 'q016', 'q017', 'q045', 'q050'],\n 'c0066': ['q014', 'q062', 'q063', 'q064'],\n 'c0074': ['q015', 'q046', 'q047', 'q048'],\n 'c0213': ['q003'],\n 'c0219': ['q009'],\n 'c0178': ['q018'],\n 'c0186': ['q020', 'q021', 'q022', 'q025', 'q026', 'q027'],\n 'c0193': ['q019', 'q065'],\n 'c0108': ['q028'],\n 'c0056': ['q012'],\n 'c0195': ['q018'],\n 'c0206': ['q018'],\n 'c0467': ['q021', 'q069', 'q072'],\n 'c0129': ['q000', 'q001', 'q002'],\n 'c0155': ['q001'],\n 'c0156': ['q002'],\n 'c0157': ['q000'],\n 'c0252': ['q019', 'q024'],\n 'c0266': ['q013', 'q024', 'q057'],\n 'c0238': ['q003'],\n 'c0279': ['q027',\n  'q047',\n  'q048',\n  'q052',\n  'q053',\n  'q054',\n  'q055',\n  'q056',\n  'q071',\n  'q072',\n  'q074'],\n 'c0076': ['q016', 'q048', 'q064'],\n 'c0470': ['q026', 'q073'],\n 'c0009': ['q005'],\n 'c0217': ['q004', 'q009'],\n 'c0230': ['q004', 'q005', 'q009'],\n 'c0201': ['q020', 'q021', 'q022', 'q025', 'q026', 'q027'],\n 'c0552': ['q069'],\n 'c0480': ['q047', 'q048', 'q063'],\n 'c0054': ['q013', 'q024', 'q053', 'q062', 'q063', 'q064'],\n 'c0455': ['q071', 'q072', 'q073', 'q074'],\n 'c0602': ['q073', 'q074'],\n 'c0559': ['q069'],\n 'c0069': ['q012'],\n 'c0295': ['q041'],\n 'c0288': ['q036',\n  'q037',\n  'q038',\n  'q039',\n  'q040',\n  'q041',\n  'q042',\n  'q043',\n  'q044',\n  'q068',\n  'q070'],\n 'c0297': ['q039', 'q042'],\n 'c0302': ['q010', 'q036'],\n 'c0311': ['q035'],\n 'c0313': ['q036', 'q037', 'q043'],\n 'c0314': ['q044'],\n 'c0310': ['q006', 'q010', 'q011', 'q033', 'q034', 'q035'],\n 'c0315': ['q038', 'q041', 'q042', 'q043', 'q044'],\n 'c0316': ['q037', 'q040', 'q055', 'q061', 'q066'],\n 'c0298': ['q011'],\n 'c0304': ['q033', 'q068', 'q070'],\n 'c0346': ['q019', 'q049', 'q050', 'q051', 'q057', 'q065', 'q066', 'q067'],\n 'c0379': ['q052', 'q053', 'q054', 'q055', 'q056'],\n 'c0366': ['q056', 'q065', 'q066', 'q067'],\n 'c0391': ['q030', 'q051'],\n 'c0386': ['q022',\n  'q030',\n  'q031',\n  'q052',\n  'q053',\n  'q054',\n  'q055',\n  'q056',\n  'q060',\n  'q061',\n  'q071'],\n 'c0638': ['q020',\n  'q021',\n  'q022',\n  'q052',\n  'q053',\n  'q054',\n  'q055',\n  'q056',\n  'q060',\n  'q061',\n  'q065'],\n 'c0322': ['q045'],\n 'c0323': ['q014', 'q015', 'q016', 'q017', 'q046', 'q047', 'q048'],\n 'c0326': ['q017', 'q025', 'q026', 'q027', 'q046', 'q062'],\n 'c0327': ['q014', 'q015', 'q016', 'q017', 'q046', 'q048'],\n 'c0336': ['q045', 'q062', 'q063', 'q064', 'q073', 'q074'],\n 'c0337': ['q045', 'q062', 'q063', 'q064'],\n 'c0307': ['q034', 'q069', 'q070'],\n 'c0633': ['q010', 'q011', 'q033', 'q034', 'q035'],\n 'c0368': ['q007', 'q054'],\n 'c0388': ['q060', 'q061', 'q065', 'q066', 'q067']}"
     },
     "execution_count": 10,
     "metadata": {},
     "output_type": "execute_result"
    }
   ],
   "source": [
    "courses_curriculas_pair\n",
    "\n"
   ]
  }
 ],
 "metadata": {
  "interpreter": {
   "hash": "fcc52514080096f3e7997a25e092e51a2ae638bf5e86c137f16093b2993e9079"
  },
  "kernelspec": {
   "name": "pycharm-9ec7b100",
   "language": "python",
   "display_name": "PyCharm (ML_Ex2)"
  },
  "language_info": {
   "codemirror_mode": {
    "name": "ipython",
    "version": 3
   },
   "file_extension": ".py",
   "mimetype": "text/x-python",
   "name": "python",
   "nbconvert_exporter": "python",
   "pygments_lexer": "ipython3",
   "version": "3.7.0"
  }
 },
 "nbformat": 4,
 "nbformat_minor": 0
}